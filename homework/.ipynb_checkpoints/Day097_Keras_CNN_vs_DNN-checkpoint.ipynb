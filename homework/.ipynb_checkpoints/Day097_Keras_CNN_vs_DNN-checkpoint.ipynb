{
 "cells": [
  {
   "cell_type": "code",
   "execution_count": 1,
   "metadata": {},
   "outputs": [
    {
     "name": "stderr",
     "output_type": "stream",
     "text": [
      "Using TensorFlow backend.\n"
     ]
    }
   ],
   "source": [
    "import keras\n",
    "from keras.datasets import cifar10\n",
    "from keras.preprocessing.image import ImageDataGenerator\n",
    "from keras.models import Sequential\n",
    "from keras.layers import Dense, Dropout, Activation, Flatten\n",
    "from keras.layers import Conv2D, MaxPooling2D\n",
    "from keras.optimizers import RMSprop, Adam\n",
    "import os"
   ]
  },
  {
   "cell_type": "code",
   "execution_count": 2,
   "metadata": {},
   "outputs": [
    {
     "name": "stdout",
     "output_type": "stream",
     "text": [
      "x_train shape: (50000, 32, 32, 3)\n",
      "50000 train samples\n",
      "10000 test samples\n"
     ]
    }
   ],
   "source": [
    "batch_size = 128 # batch 的大小，如果出現 OOM error，請降低這個值\n",
    "num_classes = 10 # 類別的數量，Cifar 10 共有 10 個類別\n",
    "#epochs = 10 # 訓練的 epochs 數量\n",
    "epochs = 30 # 修改訓練的 epochs 數量\n",
    "\n",
    "# 讀取資料並檢視\n",
    "(x_train, y_train), (x_test, y_test) = cifar10.load_data()\n",
    "print('x_train shape:', x_train.shape)\n",
    "print(x_train.shape[0], 'train samples')\n",
    "print(x_test.shape[0], 'test samples')\n",
    "\n",
    "# 對 label 進行 one-hot encoding (y_trian 原本是純數字)\n",
    "y_train = keras.utils.to_categorical(y_train, num_classes)\n",
    "y_test = keras.utils.to_categorical(y_test, num_classes)"
   ]
  },
  {
   "cell_type": "markdown",
   "metadata": {},
   "source": [
    "## 首先我們使用一般的 DNN (MLP) 來訓練\n",
    "由於 DNN 只能輸入一維的資料，我們要先將影像進行攤平，若 (50000, 32, 32, 3) 的影像，攤平後會變成 (50000, 32*32*3) = (50000, 3072)"
   ]
  },
  {
   "cell_type": "code",
   "execution_count": 3,
   "metadata": {},
   "outputs": [
    {
     "name": "stdout",
     "output_type": "stream",
     "text": [
      "50000 train samples\n",
      "10000 test samples\n"
     ]
    }
   ],
   "source": [
    "# 將資料攤平成一維資料\n",
    "x_train = x_train.reshape(50000, 3072) \n",
    "x_test = x_test.reshape(10000, 3072)\n",
    "\n",
    "# 將資料變為 float32 並標準化\n",
    "x_train = x_train.astype('float32')\n",
    "x_test = x_test.astype('float32')\n",
    "x_train /= 255\n",
    "x_test /= 255\n",
    "print(x_train.shape[0], 'train samples')\n",
    "print(x_test.shape[0], 'test samples')"
   ]
  },
  {
   "cell_type": "code",
   "execution_count": 4,
   "metadata": {},
   "outputs": [
    {
     "name": "stderr",
     "output_type": "stream",
     "text": [
      "WARNING: Logging before flag parsing goes to stderr.\n",
      "W0813 13:49:07.893238 16808 deprecation_wrapper.py:119] From C:\\ProgramData\\Anaconda3\\lib\\site-packages\\keras\\backend\\tensorflow_backend.py:74: The name tf.get_default_graph is deprecated. Please use tf.compat.v1.get_default_graph instead.\n",
      "\n",
      "W0813 13:49:07.905205 16808 deprecation_wrapper.py:119] From C:\\ProgramData\\Anaconda3\\lib\\site-packages\\keras\\backend\\tensorflow_backend.py:517: The name tf.placeholder is deprecated. Please use tf.compat.v1.placeholder instead.\n",
      "\n",
      "W0813 13:49:07.907200 16808 deprecation_wrapper.py:119] From C:\\ProgramData\\Anaconda3\\lib\\site-packages\\keras\\backend\\tensorflow_backend.py:4138: The name tf.random_uniform is deprecated. Please use tf.random.uniform instead.\n",
      "\n",
      "W0813 13:49:07.915178 16808 deprecation_wrapper.py:119] From C:\\ProgramData\\Anaconda3\\lib\\site-packages\\keras\\backend\\tensorflow_backend.py:133: The name tf.placeholder_with_default is deprecated. Please use tf.compat.v1.placeholder_with_default instead.\n",
      "\n",
      "W0813 13:49:07.921163 16808 deprecation.py:506] From C:\\ProgramData\\Anaconda3\\lib\\site-packages\\keras\\backend\\tensorflow_backend.py:3445: calling dropout (from tensorflow.python.ops.nn_ops) with keep_prob is deprecated and will be removed in a future version.\n",
      "Instructions for updating:\n",
      "Please use `rate` instead of `keep_prob`. Rate should be set to `rate = 1 - keep_prob`.\n",
      "W0813 13:49:07.963051 16808 deprecation_wrapper.py:119] From C:\\ProgramData\\Anaconda3\\lib\\site-packages\\keras\\optimizers.py:790: The name tf.train.Optimizer is deprecated. Please use tf.compat.v1.train.Optimizer instead.\n",
      "\n",
      "W0813 13:49:07.968038 16808 deprecation_wrapper.py:119] From C:\\ProgramData\\Anaconda3\\lib\\site-packages\\keras\\backend\\tensorflow_backend.py:3295: The name tf.log is deprecated. Please use tf.math.log instead.\n",
      "\n",
      "W0813 13:49:08.022404 16808 deprecation.py:323] From C:\\ProgramData\\Anaconda3\\lib\\site-packages\\tensorflow\\python\\ops\\math_grad.py:1250: add_dispatch_support.<locals>.wrapper (from tensorflow.python.ops.array_ops) is deprecated and will be removed in a future version.\n",
      "Instructions for updating:\n",
      "Use tf.where in 2.0, which has the same broadcast rule as np.where\n"
     ]
    },
    {
     "name": "stdout",
     "output_type": "stream",
     "text": [
      "_________________________________________________________________\n",
      "Layer (type)                 Output Shape              Param #   \n",
      "=================================================================\n",
      "dense_1 (Dense)              (None, 512)               1573376   \n",
      "_________________________________________________________________\n",
      "dropout_1 (Dropout)          (None, 512)               0         \n",
      "_________________________________________________________________\n",
      "dense_2 (Dense)              (None, 512)               262656    \n",
      "_________________________________________________________________\n",
      "dropout_2 (Dropout)          (None, 512)               0         \n",
      "_________________________________________________________________\n",
      "dense_3 (Dense)              (None, 10)                5130      \n",
      "=================================================================\n",
      "Total params: 1,841,162\n",
      "Trainable params: 1,841,162\n",
      "Non-trainable params: 0\n",
      "_________________________________________________________________\n",
      "Train on 50000 samples, validate on 10000 samples\n",
      "Epoch 1/30\n",
      "50000/50000 [==============================] - 7s 144us/step - loss: 2.2564 - acc: 0.2478 - val_loss: 1.8738 - val_acc: 0.3139\n",
      "Epoch 2/30\n",
      "50000/50000 [==============================] - 7s 140us/step - loss: 1.8657 - acc: 0.3261 - val_loss: 1.7554 - val_acc: 0.3730\n",
      "Epoch 3/30\n",
      "50000/50000 [==============================] - 7s 138us/step - loss: 1.7885 - acc: 0.3578 - val_loss: 1.7191 - val_acc: 0.3863\n",
      "Epoch 4/30\n",
      "50000/50000 [==============================] - 7s 140us/step - loss: 1.7403 - acc: 0.3774 - val_loss: 1.7065 - val_acc: 0.3859\n",
      "Epoch 5/30\n",
      "50000/50000 [==============================] - 7s 140us/step - loss: 1.7071 - acc: 0.3880 - val_loss: 1.6261 - val_acc: 0.4299\n",
      "Epoch 6/30\n",
      "50000/50000 [==============================] - 7s 139us/step - loss: 1.6754 - acc: 0.4007 - val_loss: 1.6280 - val_acc: 0.4172\n",
      "Epoch 7/30\n",
      "50000/50000 [==============================] - 7s 140us/step - loss: 1.6607 - acc: 0.4049 - val_loss: 1.5996 - val_acc: 0.4415\n",
      "Epoch 8/30\n",
      "50000/50000 [==============================] - 7s 140us/step - loss: 1.6393 - acc: 0.4136 - val_loss: 1.6396 - val_acc: 0.4137\n",
      "Epoch 9/30\n",
      "50000/50000 [==============================] - 7s 139us/step - loss: 1.6216 - acc: 0.4186 - val_loss: 1.6292 - val_acc: 0.4056\n",
      "Epoch 10/30\n",
      "50000/50000 [==============================] - 7s 142us/step - loss: 1.6049 - acc: 0.4250 - val_loss: 1.5840 - val_acc: 0.4491\n",
      "Epoch 11/30\n",
      "50000/50000 [==============================] - 7s 140us/step - loss: 1.5942 - acc: 0.4303 - val_loss: 1.6042 - val_acc: 0.4195\n",
      "Epoch 12/30\n",
      "50000/50000 [==============================] - 7s 139us/step - loss: 1.5850 - acc: 0.4320 - val_loss: 1.5565 - val_acc: 0.4495\n",
      "Epoch 13/30\n",
      "50000/50000 [==============================] - 7s 140us/step - loss: 1.5716 - acc: 0.4402 - val_loss: 1.6417 - val_acc: 0.4084\n",
      "Epoch 14/30\n",
      "50000/50000 [==============================] - 7s 141us/step - loss: 1.5711 - acc: 0.4420 - val_loss: 1.5432 - val_acc: 0.4611\n",
      "Epoch 15/30\n",
      "50000/50000 [==============================] - 7s 141us/step - loss: 1.5546 - acc: 0.4420 - val_loss: 1.5569 - val_acc: 0.4454\n",
      "Epoch 16/30\n",
      "50000/50000 [==============================] - 7s 140us/step - loss: 1.5536 - acc: 0.4448 - val_loss: 1.5081 - val_acc: 0.4721\n",
      "Epoch 17/30\n",
      "50000/50000 [==============================] - 7s 141us/step - loss: 1.5472 - acc: 0.4464 - val_loss: 1.5262 - val_acc: 0.4608\n",
      "Epoch 18/30\n",
      "50000/50000 [==============================] - 7s 140us/step - loss: 1.5405 - acc: 0.4509 - val_loss: 1.4906 - val_acc: 0.4695\n",
      "Epoch 19/30\n",
      "50000/50000 [==============================] - 7s 141us/step - loss: 1.5326 - acc: 0.4542 - val_loss: 1.5389 - val_acc: 0.4570\n",
      "Epoch 20/30\n",
      "50000/50000 [==============================] - 7s 141us/step - loss: 1.5269 - acc: 0.4546 - val_loss: 1.5172 - val_acc: 0.4654\n",
      "Epoch 21/30\n",
      "50000/50000 [==============================] - 7s 141us/step - loss: 1.5230 - acc: 0.4548 - val_loss: 1.5245 - val_acc: 0.4747\n",
      "Epoch 22/30\n",
      "50000/50000 [==============================] - 7s 145us/step - loss: 1.5191 - acc: 0.4610 - val_loss: 1.5149 - val_acc: 0.4613\n",
      "Epoch 23/30\n",
      "50000/50000 [==============================] - 7s 144us/step - loss: 1.5131 - acc: 0.4613 - val_loss: 1.5152 - val_acc: 0.4770\n",
      "Epoch 24/30\n",
      "50000/50000 [==============================] - 7s 140us/step - loss: 1.5066 - acc: 0.4668 - val_loss: 1.5209 - val_acc: 0.4658\n",
      "Epoch 25/30\n",
      "50000/50000 [==============================] - 7s 140us/step - loss: 1.5035 - acc: 0.4651 - val_loss: 1.5010 - val_acc: 0.4655\n",
      "Epoch 26/30\n",
      "50000/50000 [==============================] - 7s 139us/step - loss: 1.5031 - acc: 0.4650 - val_loss: 1.4725 - val_acc: 0.4763\n",
      "Epoch 27/30\n",
      "50000/50000 [==============================] - 7s 139us/step - loss: 1.4993 - acc: 0.4704 - val_loss: 1.4895 - val_acc: 0.4682\n",
      "Epoch 28/30\n",
      "50000/50000 [==============================] - 7s 139us/step - loss: 1.4919 - acc: 0.4703 - val_loss: 1.5147 - val_acc: 0.4537\n",
      "Epoch 29/30\n",
      "50000/50000 [==============================] - 7s 140us/step - loss: 1.4913 - acc: 0.4705 - val_loss: 1.5664 - val_acc: 0.4248\n",
      "Epoch 30/30\n",
      "50000/50000 [==============================] - 7s 138us/step - loss: 1.4884 - acc: 0.4718 - val_loss: 1.5250 - val_acc: 0.4660\n",
      "Test loss: 1.5249698364257813\n",
      "Test accuracy: 0.466\n"
     ]
    }
   ],
   "source": [
    "model = Sequential()\n",
    "model.add(Dense(512, activation='relu', input_shape=(3072,)))\n",
    "model.add(Dropout(0.2))\n",
    "model.add(Dense(512, activation='relu'))\n",
    "model.add(Dropout(0.2))\n",
    "model.add(Dense(num_classes, activation='softmax'))\n",
    "\n",
    "model.summary()\n",
    "\n",
    "model.compile(loss='categorical_crossentropy',\n",
    "              optimizer=RMSprop(),\n",
    "              metrics=['accuracy'])\n",
    "\n",
    "history = model.fit(x_train, y_train,\n",
    "                    batch_size=batch_size,\n",
    "                    epochs=epochs,\n",
    "                    verbose=1,\n",
    "                    validation_data=(x_test, y_test))\n",
    "score = model.evaluate(x_test, y_test, verbose=0)\n",
    "print('Test loss:', score[0])\n",
    "print('Test accuracy:', score[1])"
   ]
  },
  {
   "cell_type": "markdown",
   "metadata": {},
   "source": [
    "## 接下來我們使用 CNN 來訓練神經網路\n",
    "CNN 的原理非常適合處理影像類的資料，就讓我們來看看，同樣的訓練條件，CNN 是否顯著優於 DNN 呢?"
   ]
  },
  {
   "cell_type": "code",
   "execution_count": 5,
   "metadata": {},
   "outputs": [
    {
     "name": "stdout",
     "output_type": "stream",
     "text": [
      "x_train shape: (50000, 32, 32, 3)\n",
      "50000 train samples\n",
      "10000 test samples\n"
     ]
    }
   ],
   "source": [
    "(x_train, y_train), (x_test, y_test) = cifar10.load_data()\n",
    "print('x_train shape:', x_train.shape)\n",
    "print(x_train.shape[0], 'train samples')\n",
    "print(x_test.shape[0], 'test samples')\n",
    "x_train = x_train.astype('float32')\n",
    "x_test = x_test.astype('float32')\n",
    "x_train /= 255\n",
    "x_test /= 255\n",
    "\n",
    "# Convert class vectors to binary class matrices.\n",
    "y_train = keras.utils.to_categorical(y_train, num_classes)\n",
    "y_test = keras.utils.to_categorical(y_test, num_classes)"
   ]
  },
  {
   "cell_type": "code",
   "execution_count": 6,
   "metadata": {},
   "outputs": [
    {
     "name": "stderr",
     "output_type": "stream",
     "text": [
      "W0813 14:02:31.557019 16808 deprecation_wrapper.py:119] From C:\\ProgramData\\Anaconda3\\lib\\site-packages\\keras\\backend\\tensorflow_backend.py:3976: The name tf.nn.max_pool is deprecated. Please use tf.nn.max_pool2d instead.\n",
      "\n"
     ]
    },
    {
     "name": "stdout",
     "output_type": "stream",
     "text": [
      "_________________________________________________________________\n",
      "Layer (type)                 Output Shape              Param #   \n",
      "=================================================================\n",
      "conv2d_1 (Conv2D)            (None, 32, 32, 32)        896       \n",
      "_________________________________________________________________\n",
      "activation_1 (Activation)    (None, 32, 32, 32)        0         \n",
      "_________________________________________________________________\n",
      "conv2d_2 (Conv2D)            (None, 30, 30, 32)        9248      \n",
      "_________________________________________________________________\n",
      "activation_2 (Activation)    (None, 30, 30, 32)        0         \n",
      "_________________________________________________________________\n",
      "max_pooling2d_1 (MaxPooling2 (None, 15, 15, 32)        0         \n",
      "_________________________________________________________________\n",
      "dropout_3 (Dropout)          (None, 15, 15, 32)        0         \n",
      "_________________________________________________________________\n",
      "conv2d_3 (Conv2D)            (None, 15, 15, 64)        18496     \n",
      "_________________________________________________________________\n",
      "activation_3 (Activation)    (None, 15, 15, 64)        0         \n",
      "_________________________________________________________________\n",
      "conv2d_4 (Conv2D)            (None, 13, 13, 64)        36928     \n",
      "_________________________________________________________________\n",
      "activation_4 (Activation)    (None, 13, 13, 64)        0         \n",
      "_________________________________________________________________\n",
      "max_pooling2d_2 (MaxPooling2 (None, 6, 6, 64)          0         \n",
      "_________________________________________________________________\n",
      "dropout_4 (Dropout)          (None, 6, 6, 64)          0         \n",
      "_________________________________________________________________\n",
      "flatten_1 (Flatten)          (None, 2304)              0         \n",
      "_________________________________________________________________\n",
      "dense_4 (Dense)              (None, 512)               1180160   \n",
      "_________________________________________________________________\n",
      "activation_5 (Activation)    (None, 512)               0         \n",
      "_________________________________________________________________\n",
      "dropout_5 (Dropout)          (None, 512)               0         \n",
      "_________________________________________________________________\n",
      "dense_5 (Dense)              (None, 10)                5130      \n",
      "_________________________________________________________________\n",
      "activation_6 (Activation)    (None, 10)                0         \n",
      "=================================================================\n",
      "Total params: 1,250,858\n",
      "Trainable params: 1,250,858\n",
      "Non-trainable params: 0\n",
      "_________________________________________________________________\n",
      "Train on 50000 samples, validate on 10000 samples\n",
      "Epoch 1/30\n",
      "50000/50000 [==============================] - 56s 1ms/step - loss: 1.7374 - acc: 0.3719 - val_loss: 1.3642 - val_acc: 0.5043\n",
      "Epoch 2/30\n",
      "50000/50000 [==============================] - 56s 1ms/step - loss: 1.3061 - acc: 0.5346 - val_loss: 1.2678 - val_acc: 0.5618\n",
      "Epoch 3/30\n",
      "50000/50000 [==============================] - 56s 1ms/step - loss: 1.1211 - acc: 0.6057 - val_loss: 0.9716 - val_acc: 0.6627\n",
      "Epoch 4/30\n",
      "50000/50000 [==============================] - 57s 1ms/step - loss: 0.9992 - acc: 0.6510 - val_loss: 1.0716 - val_acc: 0.6352\n",
      "Epoch 5/30\n",
      "50000/50000 [==============================] - 56s 1ms/step - loss: 0.9125 - acc: 0.6800 - val_loss: 0.8933 - val_acc: 0.6923\n",
      "Epoch 6/30\n",
      "50000/50000 [==============================] - 56s 1ms/step - loss: 0.8392 - acc: 0.7068 - val_loss: 0.8193 - val_acc: 0.7202\n",
      "Epoch 7/30\n",
      "50000/50000 [==============================] - 56s 1ms/step - loss: 0.7895 - acc: 0.7235 - val_loss: 0.8198 - val_acc: 0.7160\n",
      "Epoch 8/30\n",
      "50000/50000 [==============================] - 56s 1ms/step - loss: 0.7505 - acc: 0.7386 - val_loss: 0.7478 - val_acc: 0.7410\n",
      "Epoch 9/30\n",
      "50000/50000 [==============================] - 56s 1ms/step - loss: 0.7101 - acc: 0.7519 - val_loss: 0.7240 - val_acc: 0.7611\n",
      "Epoch 10/30\n",
      "50000/50000 [==============================] - 56s 1ms/step - loss: 0.6852 - acc: 0.7623 - val_loss: 0.7059 - val_acc: 0.7681\n",
      "Epoch 11/30\n",
      "50000/50000 [==============================] - 57s 1ms/step - loss: 0.6650 - acc: 0.7715 - val_loss: 0.7810 - val_acc: 0.7555\n",
      "Epoch 12/30\n",
      "50000/50000 [==============================] - 56s 1ms/step - loss: 0.6517 - acc: 0.7744 - val_loss: 0.6748 - val_acc: 0.7747\n",
      "Epoch 13/30\n",
      "50000/50000 [==============================] - 56s 1ms/step - loss: 0.6381 - acc: 0.7796 - val_loss: 0.6893 - val_acc: 0.7761\n",
      "Epoch 14/30\n",
      "50000/50000 [==============================] - 56s 1ms/step - loss: 0.6330 - acc: 0.7860 - val_loss: 0.7451 - val_acc: 0.7703\n",
      "Epoch 15/30\n",
      "50000/50000 [==============================] - 56s 1ms/step - loss: 0.6283 - acc: 0.7869 - val_loss: 0.6852 - val_acc: 0.7756\n",
      "Epoch 16/30\n",
      "50000/50000 [==============================] - 56s 1ms/step - loss: 0.6274 - acc: 0.7894 - val_loss: 0.6905 - val_acc: 0.7815\n",
      "Epoch 17/30\n",
      "50000/50000 [==============================] - 56s 1ms/step - loss: 0.6237 - acc: 0.7902 - val_loss: 0.6759 - val_acc: 0.7805\n",
      "Epoch 18/30\n",
      "50000/50000 [==============================] - 56s 1ms/step - loss: 0.6228 - acc: 0.7915 - val_loss: 0.7008 - val_acc: 0.7755\n",
      "Epoch 19/30\n",
      "50000/50000 [==============================] - 56s 1ms/step - loss: 0.6154 - acc: 0.7939 - val_loss: 0.6844 - val_acc: 0.7858\n",
      "Epoch 20/30\n",
      "50000/50000 [==============================] - 56s 1ms/step - loss: 0.6154 - acc: 0.7954 - val_loss: 0.6927 - val_acc: 0.7842\n",
      "Epoch 21/30\n",
      "50000/50000 [==============================] - 57s 1ms/step - loss: 0.6217 - acc: 0.7966 - val_loss: 0.6694 - val_acc: 0.7892\n",
      "Epoch 22/30\n",
      "50000/50000 [==============================] - 56s 1ms/step - loss: 0.6119 - acc: 0.7965 - val_loss: 0.6859 - val_acc: 0.7849\n",
      "Epoch 23/30\n",
      "50000/50000 [==============================] - 56s 1ms/step - loss: 0.6201 - acc: 0.7945 - val_loss: 0.7631 - val_acc: 0.7703\n",
      "Epoch 24/30\n",
      "50000/50000 [==============================] - 56s 1ms/step - loss: 0.6170 - acc: 0.7952 - val_loss: 0.7622 - val_acc: 0.7690\n",
      "Epoch 25/30\n",
      "50000/50000 [==============================] - 56s 1ms/step - loss: 0.6177 - acc: 0.7952 - val_loss: 0.7549 - val_acc: 0.7744\n",
      "Epoch 26/30\n",
      "50000/50000 [==============================] - 56s 1ms/step - loss: 0.6056 - acc: 0.7995 - val_loss: 0.6928 - val_acc: 0.7845\n",
      "Epoch 27/30\n",
      "50000/50000 [==============================] - 57s 1ms/step - loss: 0.6171 - acc: 0.7995 - val_loss: 0.6939 - val_acc: 0.7745\n",
      "Epoch 28/30\n",
      "50000/50000 [==============================] - 56s 1ms/step - loss: 0.6264 - acc: 0.7973 - val_loss: 0.7611 - val_acc: 0.7715\n",
      "Epoch 29/30\n",
      "50000/50000 [==============================] - 56s 1ms/step - loss: 0.6213 - acc: 0.7991 - val_loss: 0.6404 - val_acc: 0.7913\n",
      "Epoch 30/30\n",
      "50000/50000 [==============================] - 56s 1ms/step - loss: 0.6254 - acc: 0.7975 - val_loss: 0.7883 - val_acc: 0.7764\n",
      "Test loss: 0.7882733692646027\n",
      "Test accuracy: 0.7764\n"
     ]
    }
   ],
   "source": [
    "model = Sequential()\n",
    "model.add(Conv2D(32, (3, 3), padding='same',\n",
    "                 input_shape=x_train.shape[1:]))\n",
    "model.add(Activation('relu'))\n",
    "model.add(Conv2D(32, (3, 3)))\n",
    "model.add(Activation('relu'))\n",
    "model.add(MaxPooling2D(pool_size=(2, 2)))\n",
    "model.add(Dropout(0.25))\n",
    "\n",
    "model.add(Conv2D(64, (3, 3), padding='same'))\n",
    "model.add(Activation('relu'))\n",
    "model.add(Conv2D(64, (3, 3)))\n",
    "model.add(Activation('relu'))\n",
    "model.add(MaxPooling2D(pool_size=(2, 2)))\n",
    "model.add(Dropout(0.25))\n",
    "\n",
    "model.add(Flatten())\n",
    "model.add(Dense(512))\n",
    "model.add(Activation('relu'))\n",
    "model.add(Dropout(0.5))\n",
    "model.add(Dense(num_classes))\n",
    "model.add(Activation('softmax'))\n",
    "model.summary()\n",
    "\n",
    "model.compile(loss='categorical_crossentropy',\n",
    "              optimizer=RMSprop(),\n",
    "              metrics=['accuracy'])\n",
    "\n",
    "history = model.fit(x_train, y_train,\n",
    "                    batch_size=batch_size,\n",
    "                    epochs=epochs,\n",
    "                    verbose=1,\n",
    "                    validation_data=(x_test, y_test))\n",
    "score = model.evaluate(x_test, y_test, verbose=0)\n",
    "print('Test loss:', score[0])\n",
    "print('Test accuracy:', score[1])"
   ]
  },
  {
   "cell_type": "markdown",
   "metadata": {},
   "source": [
    "## 同樣運算 10 個 epochs，但 CNN 在 test data 的準確率顯著優於 DNN!"
   ]
  },
  {
   "cell_type": "markdown",
   "metadata": {},
   "source": [
    "## 作業\n",
    "1. 請試著調整各個超參數，並說明那些超參數對於結果有明顯的影響?\n",
    "2. CNN 與 DNN 哪個模型的參數數量比較多? 造成參數的數量不同的原因在哪?"
   ]
  },
  {
   "cell_type": "code",
   "execution_count": null,
   "metadata": {},
   "outputs": [],
   "source": [
    "ANS1:Epoch從10調到30, 對CNN有影響, Accuracy從0.7479變成0.7764\n",
    "\n",
    "ANS2:DNN的參數量比CNN多, 主要是DNN將圖像的資料一維化的關係, 但CNN訓練所花的時間比DNN大很多!!"
   ]
  }
 ],
 "metadata": {
  "kernelspec": {
   "display_name": "Python 3",
   "language": "python",
   "name": "python3"
  },
  "language_info": {
   "codemirror_mode": {
    "name": "ipython",
    "version": 3
   },
   "file_extension": ".py",
   "mimetype": "text/x-python",
   "name": "python",
   "nbconvert_exporter": "python",
   "pygments_lexer": "ipython3",
   "version": "3.7.3"
  }
 },
 "nbformat": 4,
 "nbformat_minor": 2
}
