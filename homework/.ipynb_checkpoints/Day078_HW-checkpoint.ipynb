{
 "cells": [
  {
   "cell_type": "markdown",
   "metadata": {},
   "source": [
    "## Work\n",
    "1. 請嘗試將 preproc_x 替換成以每筆資料的 min/max 進行標準化至 -1 ~ 1 間，再進行訓練\n",
    "2. 請嘗試將 mlp 疊更深 (e.g 5~10 層)，進行訓練後觀察 learning curve 的走勢\n",
    "3. (optional) 請改用 GPU 進行訓練 (如果你有 GPU 的話)，比較使用 CPU 與 GPU 的訓練速度"
   ]
  },
  {
   "cell_type": "code",
   "execution_count": 1,
   "metadata": {},
   "outputs": [],
   "source": [
    "## \n",
    "\"\"\"\n",
    "Your code here (optional)\n",
    "確認硬體資源\n",
    "\"\"\"\n",
    "!nvidia-smi"
   ]
  },
  {
   "cell_type": "code",
   "execution_count": 1,
   "metadata": {},
   "outputs": [
    {
     "name": "stderr",
     "output_type": "stream",
     "text": [
      "Using TensorFlow backend.\n"
     ]
    }
   ],
   "source": [
    "import os\n",
    "import keras\n",
    "\n",
    "\n",
    "# 請嘗試設定 GPU：os.environ\n",
    "os.environ[\"CUDA_VISIBLE_DEVICES\"] = \"無\""
   ]
  },
  {
   "cell_type": "code",
   "execution_count": 2,
   "metadata": {},
   "outputs": [],
   "source": [
    "train, test = keras.datasets.cifar10.load_data()"
   ]
  },
  {
   "cell_type": "code",
   "execution_count": 3,
   "metadata": {},
   "outputs": [],
   "source": [
    "## 資料前處理\n",
    "\"\"\"\n",
    "Your code here\n",
    "\"\"\"\n",
    "def preproc_x(x, flatten=True):\n",
    "    x = x/255\n",
    "    x = x * 2\n",
    "    x = x - 1\n",
    "    if flatten:\n",
    "        x = x.reshape((len(x), -1))\n",
    "    return x\n",
    "\n",
    "def preproc_y(y, num_classes=10):\n",
    "    if y.shape[-1] == 1:\n",
    "        y = keras.utils.to_categorical(y, num_classes)\n",
    "    return y    "
   ]
  },
  {
   "cell_type": "code",
   "execution_count": 4,
   "metadata": {},
   "outputs": [],
   "source": [
    "x_train, y_train = train\n",
    "x_test, y_test = test\n",
    "\n",
    "# Preproc the inputs\n",
    "\n",
    "x_train = preproc_x(x_train)\n",
    "x_test = preproc_x(x_test)\n",
    "\n",
    "# Preprc the outputs\n",
    "y_train = preproc_y(y_train)\n",
    "y_test = preproc_y(y_test)"
   ]
  },
  {
   "cell_type": "code",
   "execution_count": 5,
   "metadata": {},
   "outputs": [
    {
     "name": "stderr",
     "output_type": "stream",
     "text": [
      "WARNING: Logging before flag parsing goes to stderr.\n",
      "W0725 21:04:16.858589  3032 deprecation_wrapper.py:119] From C:\\ProgramData\\Anaconda3\\lib\\site-packages\\keras\\backend\\tensorflow_backend.py:74: The name tf.get_default_graph is deprecated. Please use tf.compat.v1.get_default_graph instead.\n",
      "\n",
      "W0725 21:04:16.873549  3032 deprecation_wrapper.py:119] From C:\\ProgramData\\Anaconda3\\lib\\site-packages\\keras\\backend\\tensorflow_backend.py:517: The name tf.placeholder is deprecated. Please use tf.compat.v1.placeholder instead.\n",
      "\n",
      "W0725 21:04:16.876542  3032 deprecation_wrapper.py:119] From C:\\ProgramData\\Anaconda3\\lib\\site-packages\\keras\\backend\\tensorflow_backend.py:4138: The name tf.random_uniform is deprecated. Please use tf.random.uniform instead.\n",
      "\n"
     ]
    },
    {
     "name": "stdout",
     "output_type": "stream",
     "text": [
      "_________________________________________________________________\n",
      "Layer (type)                 Output Shape              Param #   \n",
      "=================================================================\n",
      "input_1 (InputLayer)         (None, 3072)              0         \n",
      "_________________________________________________________________\n",
      "hidden_layer1 (Dense)        (None, 512)               1573376   \n",
      "_________________________________________________________________\n",
      "hidden_layer2 (Dense)        (None, 256)               131328    \n",
      "_________________________________________________________________\n",
      "hidden_layer3 (Dense)        (None, 128)               32896     \n",
      "_________________________________________________________________\n",
      "hidden_layer4 (Dense)        (None, 64)                8256      \n",
      "_________________________________________________________________\n",
      "hidden_layer5 (Dense)        (None, 32)                2080      \n",
      "_________________________________________________________________\n",
      "hidden_layer6 (Dense)        (None, 16)                528       \n",
      "_________________________________________________________________\n",
      "output (Dense)               (None, 10)                170       \n",
      "=================================================================\n",
      "Total params: 1,748,634\n",
      "Trainable params: 1,748,634\n",
      "Non-trainable params: 0\n",
      "_________________________________________________________________\n"
     ]
    }
   ],
   "source": [
    "\"\"\"Code Here\n",
    "建立你的神經網路\n",
    "\"\"\"\n",
    "def build_mlp(input_shape, output_units=10, num_neurons=[512, 256, 128, 64, 32, 16]):\n",
    "    input_layer = keras.layers.Input(input_shape)\n",
    "    \n",
    "    for i, n_units in enumerate(num_neurons):\n",
    "        if i == 0:\n",
    "            x = keras.layers.Dense(units=n_units, activation=\"relu\", name=\"hidden_layer\"+str(i+1))(input_layer)\n",
    "        else:\n",
    "            x = keras.layers.Dense(units=n_units, activation=\"relu\", name=\"hidden_layer\"+str(i+1))(x)\n",
    "    \n",
    "    out = keras.layers.Dense(units=output_units, activation=\"softmax\", name=\"output\")(x)\n",
    "    \n",
    "    model = keras.models.Model(inputs=[input_layer], outputs=[out])\n",
    "    return model\n",
    "\n",
    "model = build_mlp(input_shape=x_train.shape[1:])\n",
    "\n",
    "model.summary()"
   ]
  },
  {
   "cell_type": "code",
   "execution_count": 6,
   "metadata": {},
   "outputs": [],
   "source": [
    "## 超參數設定\n",
    "LEARNING_RATE = 0.001\n",
    "EPOCHS = 100\n",
    "BATCH_SIZE = 256"
   ]
  },
  {
   "cell_type": "code",
   "execution_count": 7,
   "metadata": {},
   "outputs": [
    {
     "name": "stderr",
     "output_type": "stream",
     "text": [
      "W0725 21:04:26.207488  3032 deprecation_wrapper.py:119] From C:\\ProgramData\\Anaconda3\\lib\\site-packages\\keras\\optimizers.py:790: The name tf.train.Optimizer is deprecated. Please use tf.compat.v1.train.Optimizer instead.\n",
      "\n",
      "W0725 21:04:26.214470  3032 deprecation_wrapper.py:119] From C:\\ProgramData\\Anaconda3\\lib\\site-packages\\keras\\backend\\tensorflow_backend.py:3295: The name tf.log is deprecated. Please use tf.math.log instead.\n",
      "\n"
     ]
    }
   ],
   "source": [
    "optimizer = keras.optimizers.Adam(lr=LEARNING_RATE)\n",
    "model.compile(loss=\"categorical_crossentropy\", metrics=[\"accuracy\"], optimizer=optimizer)"
   ]
  },
  {
   "cell_type": "code",
   "execution_count": 8,
   "metadata": {},
   "outputs": [
    {
     "name": "stderr",
     "output_type": "stream",
     "text": [
      "W0725 21:04:29.831042  3032 deprecation.py:323] From C:\\ProgramData\\Anaconda3\\lib\\site-packages\\tensorflow\\python\\ops\\math_grad.py:1250: add_dispatch_support.<locals>.wrapper (from tensorflow.python.ops.array_ops) is deprecated and will be removed in a future version.\n",
      "Instructions for updating:\n",
      "Use tf.where in 2.0, which has the same broadcast rule as np.where\n",
      "W0725 21:04:29.919804  3032 deprecation_wrapper.py:119] From C:\\ProgramData\\Anaconda3\\lib\\site-packages\\keras\\backend\\tensorflow_backend.py:986: The name tf.assign_add is deprecated. Please use tf.compat.v1.assign_add instead.\n",
      "\n"
     ]
    },
    {
     "name": "stdout",
     "output_type": "stream",
     "text": [
      "Train on 50000 samples, validate on 10000 samples\n",
      "Epoch 1/100\n",
      "50000/50000 [==============================] - 7s 132us/step - loss: 1.7725 - acc: 0.3712 - val_loss: 1.6373 - val_acc: 0.4264\n",
      "Epoch 2/100\n",
      "50000/50000 [==============================] - 6s 122us/step - loss: 1.5310 - acc: 0.4587 - val_loss: 1.5039 - val_acc: 0.4669\n",
      "Epoch 3/100\n",
      "50000/50000 [==============================] - 6s 125us/step - loss: 1.4058 - acc: 0.5043 - val_loss: 1.4644 - val_acc: 0.4902 \n",
      "Epoch 4/100\n",
      "50000/50000 [==============================] - 6s 120us/step - loss: 1.3097 - acc: 0.5373 - val_loss: 1.4205 - val_acc: 0.5015\n",
      "Epoch 5/100\n",
      "50000/50000 [==============================] - 6s 120us/step - loss: 1.2303 - acc: 0.5663 - val_loss: 1.3860 - val_acc: 0.5171\n",
      "Epoch 6/100\n",
      "50000/50000 [==============================] - 6s 121us/step - loss: 1.1547 - acc: 0.5912 - val_loss: 1.4040 - val_acc: 0.5187\n",
      "Epoch 7/100\n",
      "50000/50000 [==============================] - 7s 136us/step - loss: 1.0812 - acc: 0.6175 - val_loss: 1.3883 - val_acc: 0.5336\n",
      "Epoch 8/100\n",
      "50000/50000 [==============================] - 7s 136us/step - loss: 1.0131 - acc: 0.6399 - val_loss: 1.3927 - val_acc: 0.5248\n",
      "Epoch 9/100\n",
      "50000/50000 [==============================] - 7s 136us/step - loss: 0.9497 - acc: 0.6606 - val_loss: 1.4013 - val_acc: 0.5329\n",
      "Epoch 10/100\n",
      "50000/50000 [==============================] - 6s 130us/step - loss: 0.8762 - acc: 0.6871 - val_loss: 1.4648 - val_acc: 0.5286\n",
      "Epoch 11/100\n",
      "50000/50000 [==============================] - 7s 132us/step - loss: 0.8182 - acc: 0.7060 - val_loss: 1.5150 - val_acc: 0.5313\n",
      "Epoch 12/100\n",
      "50000/50000 [==============================] - 7s 137us/step - loss: 0.7586 - acc: 0.7276 - val_loss: 1.5174 - val_acc: 0.5383\n",
      "Epoch 13/100\n",
      "50000/50000 [==============================] - 6s 124us/step - loss: 0.7061 - acc: 0.7468 - val_loss: 1.5922 - val_acc: 0.54051s - \n",
      "Epoch 14/100\n",
      "50000/50000 [==============================] - 6s 121us/step - loss: 0.6405 - acc: 0.7689 - val_loss: 1.6641 - val_acc: 0.5340\n",
      "Epoch 15/100\n",
      "50000/50000 [==============================] - 6s 119us/step - loss: 0.5913 - acc: 0.7874 - val_loss: 1.6941 - val_acc: 0.5325\n",
      "Epoch 16/100\n",
      "50000/50000 [==============================] - 6s 121us/step - loss: 0.5488 - acc: 0.8032 - val_loss: 1.7826 - val_acc: 0.5355\n",
      "Epoch 17/100\n",
      "50000/50000 [==============================] - 6s 120us/step - loss: 0.5061 - acc: 0.8195 - val_loss: 1.8648 - val_acc: 0.5345\n",
      "Epoch 18/100\n",
      "50000/50000 [==============================] - 6s 119us/step - loss: 0.4715 - acc: 0.8308 - val_loss: 1.9807 - val_acc: 0.5309\n",
      "Epoch 19/100\n",
      "50000/50000 [==============================] - 6s 119us/step - loss: 0.4286 - acc: 0.8465 - val_loss: 2.0360 - val_acc: 0.5240\n",
      "Epoch 20/100\n",
      "50000/50000 [==============================] - 6s 119us/step - loss: 0.4190 - acc: 0.8515 - val_loss: 2.0533 - val_acc: 0.5262\n",
      "Epoch 21/100\n",
      "50000/50000 [==============================] - 6s 119us/step - loss: 0.3754 - acc: 0.8673 - val_loss: 2.2142 - val_acc: 0.5289\n",
      "Epoch 22/100\n",
      "50000/50000 [==============================] - 6s 119us/step - loss: 0.3401 - acc: 0.8796 - val_loss: 2.3289 - val_acc: 0.5258\n",
      "Epoch 23/100\n",
      "50000/50000 [==============================] - 6s 119us/step - loss: 0.3193 - acc: 0.8855 - val_loss: 2.2826 - val_acc: 0.5223\n",
      "Epoch 24/100\n",
      "50000/50000 [==============================] - 6s 120us/step - loss: 0.3069 - acc: 0.8918 - val_loss: 2.4110 - val_acc: 0.5162\n",
      "Epoch 25/100\n",
      "50000/50000 [==============================] - 6s 119us/step - loss: 0.2914 - acc: 0.8981 - val_loss: 2.4992 - val_acc: 0.5360\n",
      "Epoch 26/100\n",
      "50000/50000 [==============================] - 6s 119us/step - loss: 0.2626 - acc: 0.9067 - val_loss: 2.5661 - val_acc: 0.5206\n",
      "Epoch 27/100\n",
      "50000/50000 [==============================] - 6s 119us/step - loss: 0.2597 - acc: 0.9098 - val_loss: 2.5441 - val_acc: 0.5231\n",
      "Epoch 28/100\n",
      "50000/50000 [==============================] - 6s 119us/step - loss: 0.2597 - acc: 0.9079 - val_loss: 2.5692 - val_acc: 0.5269\n",
      "Epoch 29/100\n",
      "50000/50000 [==============================] - 6s 119us/step - loss: 0.2441 - acc: 0.9144 - val_loss: 2.7380 - val_acc: 0.5316\n",
      "Epoch 30/100\n",
      "50000/50000 [==============================] - 6s 119us/step - loss: 0.2135 - acc: 0.9260 - val_loss: 2.7820 - val_acc: 0.5230\n",
      "Epoch 31/100\n",
      "50000/50000 [==============================] - 6s 120us/step - loss: 0.2164 - acc: 0.9249 - val_loss: 2.8315 - val_acc: 0.5298\n",
      "Epoch 32/100\n",
      "50000/50000 [==============================] - 6s 119us/step - loss: 0.2077 - acc: 0.9280 - val_loss: 2.8351 - val_acc: 0.5298\n",
      "Epoch 33/100\n",
      "50000/50000 [==============================] - 6s 119us/step - loss: 0.1938 - acc: 0.9330 - val_loss: 2.9746 - val_acc: 0.5276\n",
      "Epoch 34/100\n",
      "50000/50000 [==============================] - 6s 119us/step - loss: 0.1803 - acc: 0.9381 - val_loss: 3.0567 - val_acc: 0.5277\n",
      "Epoch 35/100\n",
      "50000/50000 [==============================] - 6s 119us/step - loss: 0.1599 - acc: 0.9454 - val_loss: 3.0944 - val_acc: 0.5365\n",
      "Epoch 36/100\n",
      "50000/50000 [==============================] - 6s 119us/step - loss: 0.1933 - acc: 0.9340 - val_loss: 3.0647 - val_acc: 0.5268\n",
      "Epoch 37/100\n",
      "50000/50000 [==============================] - 6s 118us/step - loss: 0.1700 - acc: 0.9426 - val_loss: 3.1065 - val_acc: 0.5243\n",
      "Epoch 38/100\n",
      "50000/50000 [==============================] - 6s 119us/step - loss: 0.1707 - acc: 0.9415 - val_loss: 3.1611 - val_acc: 0.5307\n",
      "Epoch 39/100\n",
      "50000/50000 [==============================] - 6s 119us/step - loss: 0.1530 - acc: 0.9469 - val_loss: 3.2427 - val_acc: 0.5307\n",
      "Epoch 40/100\n",
      "50000/50000 [==============================] - 6s 118us/step - loss: 0.1668 - acc: 0.9434 - val_loss: 3.1395 - val_acc: 0.5292\n",
      "Epoch 41/100\n",
      "50000/50000 [==============================] - 6s 120us/step - loss: 0.1564 - acc: 0.9465 - val_loss: 3.2012 - val_acc: 0.5316\n",
      "Epoch 42/100\n",
      "50000/50000 [==============================] - 6s 119us/step - loss: 0.1553 - acc: 0.9473 - val_loss: 3.1688 - val_acc: 0.5344\n",
      "Epoch 43/100\n",
      "50000/50000 [==============================] - 6s 119us/step - loss: 0.1298 - acc: 0.9552 - val_loss: 3.3518 - val_acc: 0.5285\n",
      "Epoch 44/100\n",
      "50000/50000 [==============================] - 6s 119us/step - loss: 0.1492 - acc: 0.9502 - val_loss: 3.3195 - val_acc: 0.5270\n",
      "Epoch 45/100\n",
      "50000/50000 [==============================] - 6s 118us/step - loss: 0.1345 - acc: 0.9549 - val_loss: 3.3728 - val_acc: 0.5323\n",
      "Epoch 46/100\n",
      "50000/50000 [==============================] - 6s 120us/step - loss: 0.1212 - acc: 0.9596 - val_loss: 3.3334 - val_acc: 0.5331\n",
      "Epoch 47/100\n",
      "50000/50000 [==============================] - 6s 119us/step - loss: 0.1358 - acc: 0.9543 - val_loss: 3.3526 - val_acc: 0.5337\n",
      "Epoch 48/100\n",
      "50000/50000 [==============================] - 6s 118us/step - loss: 0.1337 - acc: 0.9555 - val_loss: 3.3162 - val_acc: 0.5328\n",
      "Epoch 49/100\n",
      "50000/50000 [==============================] - 6s 119us/step - loss: 0.1335 - acc: 0.9550 - val_loss: 3.3924 - val_acc: 0.5360\n",
      "Epoch 50/100\n",
      "50000/50000 [==============================] - 6s 119us/step - loss: 0.1100 - acc: 0.9638 - val_loss: 3.4925 - val_acc: 0.5332\n",
      "Epoch 51/100\n",
      "50000/50000 [==============================] - 6s 119us/step - loss: 0.1355 - acc: 0.9552 - val_loss: 3.4834 - val_acc: 0.5262\n",
      "Epoch 52/100\n",
      "50000/50000 [==============================] - 6s 118us/step - loss: 0.1272 - acc: 0.9575 - val_loss: 3.4397 - val_acc: 0.5261\n",
      "Epoch 53/100\n",
      "50000/50000 [==============================] - 6s 120us/step - loss: 0.1116 - acc: 0.9619 - val_loss: 3.5288 - val_acc: 0.5285\n",
      "Epoch 54/100\n",
      "50000/50000 [==============================] - 6s 119us/step - loss: 0.0931 - acc: 0.9692 - val_loss: 3.5752 - val_acc: 0.5343\n",
      "Epoch 55/100\n",
      "50000/50000 [==============================] - 6s 119us/step - loss: 0.1070 - acc: 0.9646 - val_loss: 3.4536 - val_acc: 0.5341\n",
      "Epoch 56/100\n",
      "50000/50000 [==============================] - 6s 120us/step - loss: 0.1278 - acc: 0.9584 - val_loss: 3.4256 - val_acc: 0.5352\n",
      "Epoch 57/100\n",
      "50000/50000 [==============================] - 6s 120us/step - loss: 0.1013 - acc: 0.9661 - val_loss: 3.6956 - val_acc: 0.5303\n",
      "Epoch 58/100\n",
      "50000/50000 [==============================] - 6s 119us/step - loss: 0.0988 - acc: 0.9658 - val_loss: 3.6190 - val_acc: 0.5262\n",
      "Epoch 59/100\n"
     ]
    },
    {
     "name": "stdout",
     "output_type": "stream",
     "text": [
      "50000/50000 [==============================] - 6s 120us/step - loss: 0.1155 - acc: 0.9622 - val_loss: 3.6342 - val_acc: 0.5299\n",
      "Epoch 60/100\n",
      "50000/50000 [==============================] - 6s 119us/step - loss: 0.0936 - acc: 0.9689 - val_loss: 3.6839 - val_acc: 0.5307\n",
      "Epoch 61/100\n",
      "50000/50000 [==============================] - 6s 120us/step - loss: 0.1147 - acc: 0.9622 - val_loss: 3.4857 - val_acc: 0.5295\n",
      "Epoch 62/100\n",
      "50000/50000 [==============================] - 6s 121us/step - loss: 0.1052 - acc: 0.9655 - val_loss: 3.6239 - val_acc: 0.5322\n",
      "Epoch 63/100\n",
      "50000/50000 [==============================] - 6s 119us/step - loss: 0.0978 - acc: 0.9677 - val_loss: 3.6067 - val_acc: 0.5309\n",
      "Epoch 64/100\n",
      "50000/50000 [==============================] - 6s 119us/step - loss: 0.0903 - acc: 0.9704 - val_loss: 3.7866 - val_acc: 0.5280\n",
      "Epoch 65/100\n",
      "50000/50000 [==============================] - 6s 118us/step - loss: 0.1071 - acc: 0.9655 - val_loss: 3.7467 - val_acc: 0.5258\n",
      "Epoch 66/100\n",
      "50000/50000 [==============================] - 6s 118us/step - loss: 0.0905 - acc: 0.9702 - val_loss: 3.7001 - val_acc: 0.5356\n",
      "Epoch 67/100\n",
      "50000/50000 [==============================] - 6s 120us/step - loss: 0.1148 - acc: 0.9628 - val_loss: 3.6396 - val_acc: 0.5350\n",
      "Epoch 68/100\n",
      "50000/50000 [==============================] - 6s 118us/step - loss: 0.0785 - acc: 0.9742 - val_loss: 3.6300 - val_acc: 0.5385\n",
      "Epoch 69/100\n",
      "50000/50000 [==============================] - 6s 119us/step - loss: 0.0805 - acc: 0.9737 - val_loss: 3.7245 - val_acc: 0.5323\n",
      "Epoch 70/100\n",
      "50000/50000 [==============================] - 6s 119us/step - loss: 0.0887 - acc: 0.9709 - val_loss: 3.7775 - val_acc: 0.5340\n",
      "Epoch 71/100\n",
      "50000/50000 [==============================] - 6s 121us/step - loss: 0.0934 - acc: 0.9696 - val_loss: 3.7719 - val_acc: 0.5344\n",
      "Epoch 72/100\n",
      "50000/50000 [==============================] - 6s 119us/step - loss: 0.0930 - acc: 0.9695 - val_loss: 3.7422 - val_acc: 0.5282\n",
      "Epoch 73/100\n",
      "50000/50000 [==============================] - 6s 119us/step - loss: 0.1109 - acc: 0.9644 - val_loss: 3.7141 - val_acc: 0.5340\n",
      "Epoch 74/100\n",
      "50000/50000 [==============================] - 6s 120us/step - loss: 0.0829 - acc: 0.9728 - val_loss: 3.8414 - val_acc: 0.5317\n",
      "Epoch 75/100\n",
      "50000/50000 [==============================] - 6s 119us/step - loss: 0.0841 - acc: 0.9728 - val_loss: 3.7401 - val_acc: 0.5342\n",
      "Epoch 76/100\n",
      "50000/50000 [==============================] - 6s 120us/step - loss: 0.0663 - acc: 0.9777 - val_loss: 3.7400 - val_acc: 0.5376\n",
      "Epoch 77/100\n",
      "50000/50000 [==============================] - 6s 119us/step - loss: 0.0648 - acc: 0.9785 - val_loss: 3.8624 - val_acc: 0.5269\n",
      "Epoch 78/100\n",
      "50000/50000 [==============================] - 6s 119us/step - loss: 0.1149 - acc: 0.9630 - val_loss: 3.6505 - val_acc: 0.5301\n",
      "Epoch 79/100\n",
      "50000/50000 [==============================] - 6s 120us/step - loss: 0.0674 - acc: 0.9776 - val_loss: 3.8003 - val_acc: 0.5316\n",
      "Epoch 80/100\n",
      "50000/50000 [==============================] - 6s 120us/step - loss: 0.0667 - acc: 0.9778 - val_loss: 3.8351 - val_acc: 0.5375\n",
      "Epoch 81/100\n",
      "50000/50000 [==============================] - 6s 119us/step - loss: 0.0683 - acc: 0.9779 - val_loss: 3.8644 - val_acc: 0.5279\n",
      "Epoch 82/100\n",
      "50000/50000 [==============================] - 6s 120us/step - loss: 0.1098 - acc: 0.9649 - val_loss: 3.6521 - val_acc: 0.5307\n",
      "Epoch 83/100\n",
      "50000/50000 [==============================] - 6s 120us/step - loss: 0.0642 - acc: 0.9796 - val_loss: 3.7912 - val_acc: 0.5397\n",
      "Epoch 84/100\n",
      "50000/50000 [==============================] - 6s 119us/step - loss: 0.0962 - acc: 0.9694 - val_loss: 3.7930 - val_acc: 0.5277\n",
      "Epoch 85/100\n",
      "50000/50000 [==============================] - 6s 118us/step - loss: 0.0772 - acc: 0.9749 - val_loss: 3.8807 - val_acc: 0.5381\n",
      "Epoch 86/100\n",
      "50000/50000 [==============================] - 6s 118us/step - loss: 0.0716 - acc: 0.9768 - val_loss: 3.7989 - val_acc: 0.5305\n",
      "Epoch 87/100\n",
      "50000/50000 [==============================] - 6s 119us/step - loss: 0.0711 - acc: 0.9766 - val_loss: 3.9147 - val_acc: 0.5246\n",
      "Epoch 88/100\n",
      "50000/50000 [==============================] - 6s 119us/step - loss: 0.0715 - acc: 0.9771 - val_loss: 3.8346 - val_acc: 0.5298\n",
      "Epoch 89/100\n",
      "50000/50000 [==============================] - 6s 119us/step - loss: 0.0687 - acc: 0.9783 - val_loss: 3.8190 - val_acc: 0.5298\n",
      "Epoch 90/100\n",
      "50000/50000 [==============================] - 6s 118us/step - loss: 0.0647 - acc: 0.9794 - val_loss: 3.8165 - val_acc: 0.5354\n",
      "Epoch 91/100\n",
      "50000/50000 [==============================] - 6s 119us/step - loss: 0.0710 - acc: 0.9772 - val_loss: 3.9183 - val_acc: 0.5291\n",
      "Epoch 92/100\n",
      "50000/50000 [==============================] - 6s 118us/step - loss: 0.0737 - acc: 0.9756 - val_loss: 3.8645 - val_acc: 0.5356\n",
      "Epoch 93/100\n",
      "50000/50000 [==============================] - 6s 119us/step - loss: 0.0803 - acc: 0.9740 - val_loss: 3.8399 - val_acc: 0.5297\n",
      "Epoch 94/100\n",
      "50000/50000 [==============================] - 6s 119us/step - loss: 0.0665 - acc: 0.9783 - val_loss: 3.8695 - val_acc: 0.5362\n",
      "Epoch 95/100\n",
      "50000/50000 [==============================] - 6s 119us/step - loss: 0.0626 - acc: 0.9801 - val_loss: 3.8942 - val_acc: 0.5344\n",
      "Epoch 96/100\n",
      "50000/50000 [==============================] - 6s 118us/step - loss: 0.0773 - acc: 0.9752 - val_loss: 3.7520 - val_acc: 0.5406\n",
      "Epoch 97/100\n",
      "50000/50000 [==============================] - 6s 119us/step - loss: 0.0720 - acc: 0.9768 - val_loss: 3.8389 - val_acc: 0.5405\n",
      "Epoch 98/100\n",
      "50000/50000 [==============================] - 6s 119us/step - loss: 0.0553 - acc: 0.9822 - val_loss: 3.9646 - val_acc: 0.5365\n",
      "Epoch 99/100\n",
      "50000/50000 [==============================] - 6s 120us/step - loss: 0.0591 - acc: 0.9811 - val_loss: 3.9745 - val_acc: 0.5299\n",
      "Epoch 100/100\n",
      "50000/50000 [==============================] - 6s 118us/step - loss: 0.0736 - acc: 0.9769 - val_loss: 3.9686 - val_acc: 0.5339\n"
     ]
    },
    {
     "data": {
      "text/plain": [
       "<keras.callbacks.History at 0x25bb55cdf98>"
      ]
     },
     "execution_count": 8,
     "metadata": {},
     "output_type": "execute_result"
    }
   ],
   "source": [
    "model.fit(x_train, y_train, \n",
    "          epochs=EPOCHS, \n",
    "          batch_size=BATCH_SIZE, \n",
    "          validation_data=(x_test, y_test), \n",
    "          shuffle=True)"
   ]
  },
  {
   "cell_type": "code",
   "execution_count": 10,
   "metadata": {},
   "outputs": [
    {
     "data": {
      "image/png": "[encoded data removed]",
      "text/plain": [
       "<Figure size 432x288 with 1 Axes>"
      ]
     },
     "metadata": {
      "needs_background": "light"
     },
     "output_type": "display_data"
    },
    {
     "data": {
      "image/png": "[encoded data removed]",
      "text/plain": [
       "<Figure size 432x288 with 1 Axes>"
      ]
     },
     "metadata": {
      "needs_background": "light"
     },
     "output_type": "display_data"
    }
   ],
   "source": [
    "import matplotlib.pyplot as plt\n",
    "\n",
    "\n",
    "train_loss = model.history.history[\"loss\"]\n",
    "valid_loss = model.history.history[\"val_loss\"]\n",
    "\n",
    "train_acc = model.history.history[\"acc\"]\n",
    "valid_acc = model.history.history[\"val_acc\"]\n",
    "\n",
    "plt.plot(range(len(train_loss)), train_loss, label=\"train loss\")\n",
    "plt.plot(range(len(valid_loss)), valid_loss, label=\"valid loss\")\n",
    "plt.legend()\n",
    "plt.title(\"Loss\")\n",
    "plt.show()\n",
    "\n",
    "plt.plot(range(len(train_acc)), train_acc, label=\"train accuracy\")\n",
    "plt.plot(range(len(valid_acc)), valid_acc, label=\"valid accuracy\")\n",
    "plt.legend()\n",
    "plt.title(\"Accuracy\")\n",
    "plt.show()"
   ]
  },
  {
   "cell_type": "code",
   "execution_count": null,
   "metadata": {},
   "outputs": [],
   "source": []
  },
  {
   "cell_type": "code",
   "execution_count": null,
   "metadata": {},
   "outputs": [],
   "source": []
  }
 ],
 "metadata": {
  "kernelspec": {
   "display_name": "Python 3",
   "language": "python",
   "name": "python3"
  },
  "language_info": {
   "codemirror_mode": {
    "name": "ipython",
    "version": 3
   },
   "file_extension": ".py",
   "mimetype": "text/x-python",
   "name": "python",
   "nbconvert_exporter": "python",
   "pygments_lexer": "ipython3",
   "version": "3.7.3"
  }
 },
 "nbformat": 4,
 "nbformat_minor": 2
}
