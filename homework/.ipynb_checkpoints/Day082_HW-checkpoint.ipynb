{
 "cells": [
  {
   "cell_type": "markdown",
   "metadata": {},
   "source": [
    "## Work\n",
    "1. 請比較使用不同層數以及不同 Dropout rate 對訓練的效果\n",
    "2. 將 optimizer 改成使用 Adam 並加上適當的 dropout rate 檢視結果"
   ]
  },
  {
   "cell_type": "code",
   "execution_count": 1,
   "metadata": {},
   "outputs": [
    {
     "name": "stderr",
     "output_type": "stream",
     "text": [
      "Using TensorFlow backend.\n"
     ]
    }
   ],
   "source": [
    "import os\n",
    "import keras\n",
    "import itertools\n",
    "# Disable GPU\n",
    "os.environ[\"CUDA_VISIBLE_DEVICES\"] = \"無\""
   ]
  },
  {
   "cell_type": "code",
   "execution_count": 2,
   "metadata": {},
   "outputs": [],
   "source": [
    "train, test = keras.datasets.cifar10.load_data()"
   ]
  },
  {
   "cell_type": "code",
   "execution_count": 3,
   "metadata": {},
   "outputs": [],
   "source": [
    "## 資料前處理\n",
    "def preproc_x(x, flatten=True):\n",
    "    x = x / 255.\n",
    "    if flatten:\n",
    "        x = x.reshape((len(x), -1))\n",
    "    return x\n",
    "\n",
    "def preproc_y(y, num_classes=10):\n",
    "    if y.shape[-1] == 1:\n",
    "        y = keras.utils.to_categorical(y, num_classes)\n",
    "    return y    "
   ]
  },
  {
   "cell_type": "code",
   "execution_count": 4,
   "metadata": {},
   "outputs": [],
   "source": [
    "x_train, y_train = train\n",
    "x_test, y_test = test\n",
    "\n",
    "# Preproc the inputs\n",
    "x_train = preproc_x(x_train)\n",
    "x_test = preproc_x(x_test)\n",
    "\n",
    "# Preprc the outputs\n",
    "y_train = preproc_y(y_train)\n",
    "y_test = preproc_y(y_test)"
   ]
  },
  {
   "cell_type": "code",
   "execution_count": 5,
   "metadata": {},
   "outputs": [],
   "source": [
    "from keras.layers import Dropout\n",
    "\"\"\"Code Here\n",
    "建立你的神經網路\n",
    "\"\"\"\n",
    "\n",
    "def build_mlp(input_shape, output_units=10, num_neurons=[512, 256, 128], drp_ratio=0.2):\n",
    "    input_layer = keras.layers.Input(input_shape)\n",
    "    \n",
    "    for i, n_units in enumerate(num_neurons):\n",
    "        if i == 0:\n",
    "            x = keras.layers.Dense(units=n_units, \n",
    "                                   activation=\"relu\", \n",
    "                                   name=\"hidden_layer\"+str(i+1))(input_layer)\n",
    "            x = Dropout(drp_ratio)(x)\n",
    "        else:\n",
    "            x = keras.layers.Dense(units=n_units, \n",
    "                                   activation=\"relu\", \n",
    "                                   name=\"hidden_layer\"+str(i+1))(x)\n",
    "            x = Dropout(drp_ratio)(x)\n",
    "    \n",
    "    out = keras.layers.Dense(units=output_units, activation=\"softmax\", name=\"output\")(x)\n",
    "    \n",
    "    model = keras.models.Model(inputs=[input_layer], outputs=[out])\n",
    "    return model"
   ]
  },
  {
   "cell_type": "code",
   "execution_count": 6,
   "metadata": {},
   "outputs": [],
   "source": [
    "\"\"\"Code Here\n",
    "設定超參數\n",
    "\"\"\"\n",
    "LEARNING_RATE = 1e-3\n",
    "EPOCHS = 50\n",
    "BATCH_SIZE = 256\n",
    "MOMENTUM = 0.95\n",
    "Dropout_EXP = 0.25"
   ]
  },
  {
   "cell_type": "code",
   "execution_count": 7,
   "metadata": {
    "scrolled": true
   },
   "outputs": [
    {
     "name": "stderr",
     "output_type": "stream",
     "text": [
      "WARNING: Logging before flag parsing goes to stderr.\n",
      "W0728 12:16:10.412811  3920 deprecation_wrapper.py:119] From C:\\ProgramData\\Anaconda3\\lib\\site-packages\\keras\\backend\\tensorflow_backend.py:74: The name tf.get_default_graph is deprecated. Please use tf.compat.v1.get_default_graph instead.\n",
      "\n",
      "W0728 12:16:10.425805  3920 deprecation_wrapper.py:119] From C:\\ProgramData\\Anaconda3\\lib\\site-packages\\keras\\backend\\tensorflow_backend.py:517: The name tf.placeholder is deprecated. Please use tf.compat.v1.placeholder instead.\n",
      "\n",
      "W0728 12:16:10.427771  3920 deprecation_wrapper.py:119] From C:\\ProgramData\\Anaconda3\\lib\\site-packages\\keras\\backend\\tensorflow_backend.py:4138: The name tf.random_uniform is deprecated. Please use tf.random.uniform instead.\n",
      "\n",
      "W0728 12:16:10.439741  3920 deprecation_wrapper.py:119] From C:\\ProgramData\\Anaconda3\\lib\\site-packages\\keras\\backend\\tensorflow_backend.py:133: The name tf.placeholder_with_default is deprecated. Please use tf.compat.v1.placeholder_with_default instead.\n",
      "\n",
      "W0728 12:16:10.445744  3920 deprecation.py:506] From C:\\ProgramData\\Anaconda3\\lib\\site-packages\\keras\\backend\\tensorflow_backend.py:3445: calling dropout (from tensorflow.python.ops.nn_ops) with keep_prob is deprecated and will be removed in a future version.\n",
      "Instructions for updating:\n",
      "Please use `rate` instead of `keep_prob`. Rate should be set to `rate = 1 - keep_prob`.\n",
      "W0728 12:16:10.515558  3920 deprecation_wrapper.py:119] From C:\\ProgramData\\Anaconda3\\lib\\site-packages\\keras\\optimizers.py:790: The name tf.train.Optimizer is deprecated. Please use tf.compat.v1.train.Optimizer instead.\n",
      "\n",
      "W0728 12:16:10.521520  3920 deprecation_wrapper.py:119] From C:\\ProgramData\\Anaconda3\\lib\\site-packages\\keras\\backend\\tensorflow_backend.py:3295: The name tf.log is deprecated. Please use tf.math.log instead.\n",
      "\n",
      "W0728 12:16:10.586367  3920 deprecation.py:323] From C:\\ProgramData\\Anaconda3\\lib\\site-packages\\tensorflow\\python\\ops\\math_grad.py:1250: add_dispatch_support.<locals>.wrapper (from tensorflow.python.ops.array_ops) is deprecated and will be removed in a future version.\n",
      "Instructions for updating:\n",
      "Use tf.where in 2.0, which has the same broadcast rule as np.where\n"
     ]
    },
    {
     "name": "stdout",
     "output_type": "stream",
     "text": [
      "_________________________________________________________________\n",
      "Layer (type)                 Output Shape              Param #   \n",
      "=================================================================\n",
      "input_1 (InputLayer)         (None, 3072)              0         \n",
      "_________________________________________________________________\n",
      "hidden_layer1 (Dense)        (None, 512)               1573376   \n",
      "_________________________________________________________________\n",
      "dropout_1 (Dropout)          (None, 512)               0         \n",
      "_________________________________________________________________\n",
      "hidden_layer2 (Dense)        (None, 256)               131328    \n",
      "_________________________________________________________________\n",
      "dropout_2 (Dropout)          (None, 256)               0         \n",
      "_________________________________________________________________\n",
      "hidden_layer3 (Dense)        (None, 128)               32896     \n",
      "_________________________________________________________________\n",
      "dropout_3 (Dropout)          (None, 128)               0         \n",
      "_________________________________________________________________\n",
      "output (Dense)               (None, 10)                1290      \n",
      "=================================================================\n",
      "Total params: 1,738,890\n",
      "Trainable params: 1,738,890\n",
      "Non-trainable params: 0\n",
      "_________________________________________________________________\n",
      "Train on 50000 samples, validate on 10000 samples\n",
      "Epoch 1/50\n",
      "50000/50000 [==============================] - 7s 143us/step - loss: 2.0519 - acc: 0.2450 - val_loss: 1.8445 - val_acc: 0.3351\n",
      "Epoch 2/50\n",
      "50000/50000 [==============================] - 7s 135us/step - loss: 1.8915 - acc: 0.3113 - val_loss: 1.7671 - val_acc: 0.3710\n",
      "Epoch 3/50\n",
      "50000/50000 [==============================] - 7s 133us/step - loss: 1.8250 - acc: 0.3397 - val_loss: 1.7225 - val_acc: 0.3791\n",
      "Epoch 4/50\n",
      "50000/50000 [==============================] - 7s 133us/step - loss: 1.7811 - acc: 0.3542 - val_loss: 1.6477 - val_acc: 0.4114\n",
      "Epoch 5/50\n",
      "50000/50000 [==============================] - 7s 133us/step - loss: 1.7454 - acc: 0.3704 - val_loss: 1.6299 - val_acc: 0.4262\n",
      "Epoch 6/50\n",
      "50000/50000 [==============================] - 7s 133us/step - loss: 1.7255 - acc: 0.3759 - val_loss: 1.6426 - val_acc: 0.4196\n",
      "Epoch 7/50\n",
      "50000/50000 [==============================] - 7s 132us/step - loss: 1.7185 - acc: 0.3809 - val_loss: 1.6287 - val_acc: 0.4234\n",
      "Epoch 8/50\n",
      "50000/50000 [==============================] - 7s 133us/step - loss: 1.7041 - acc: 0.3872 - val_loss: 1.6161 - val_acc: 0.4250\n",
      "Epoch 9/50\n",
      "50000/50000 [==============================] - 7s 133us/step - loss: 1.6832 - acc: 0.3942 - val_loss: 1.5960 - val_acc: 0.4420\n",
      "Epoch 10/50\n",
      "50000/50000 [==============================] - 7s 133us/step - loss: 1.6611 - acc: 0.4021 - val_loss: 1.5673 - val_acc: 0.4460\n",
      "Epoch 11/50\n",
      "50000/50000 [==============================] - 7s 133us/step - loss: 1.6497 - acc: 0.4057 - val_loss: 1.5591 - val_acc: 0.4507\n",
      "Epoch 12/50\n",
      "50000/50000 [==============================] - 7s 134us/step - loss: 1.6406 - acc: 0.4100 - val_loss: 1.5806 - val_acc: 0.4388\n",
      "Epoch 13/50\n",
      "50000/50000 [==============================] - 7s 133us/step - loss: 1.6413 - acc: 0.4101 - val_loss: 1.5486 - val_acc: 0.4591\n",
      "Epoch 14/50\n",
      "50000/50000 [==============================] - 7s 134us/step - loss: 1.6316 - acc: 0.4120 - val_loss: 1.5694 - val_acc: 0.4402\n",
      "Epoch 15/50\n",
      "50000/50000 [==============================] - 7s 133us/step - loss: 1.6130 - acc: 0.4193 - val_loss: 1.5462 - val_acc: 0.4546\n",
      "Epoch 16/50\n",
      "50000/50000 [==============================] - 7s 133us/step - loss: 1.6112 - acc: 0.4190 - val_loss: 1.5624 - val_acc: 0.4443\n",
      "Epoch 17/50\n",
      "50000/50000 [==============================] - 7s 133us/step - loss: 1.5994 - acc: 0.4235 - val_loss: 1.5424 - val_acc: 0.4564\n",
      "Epoch 18/50\n",
      "50000/50000 [==============================] - 7s 134us/step - loss: 1.6068 - acc: 0.4200 - val_loss: 1.5183 - val_acc: 0.4616\n",
      "Epoch 19/50\n",
      "50000/50000 [==============================] - 7s 133us/step - loss: 1.5960 - acc: 0.4262 - val_loss: 1.5339 - val_acc: 0.4672\n",
      "Epoch 20/50\n",
      "50000/50000 [==============================] - 7s 133us/step - loss: 1.5850 - acc: 0.4316 - val_loss: 1.5194 - val_acc: 0.4577\n",
      "Epoch 21/50\n",
      "50000/50000 [==============================] - 7s 133us/step - loss: 1.5890 - acc: 0.4286 - val_loss: 1.5211 - val_acc: 0.4626\n",
      "Epoch 22/50\n",
      "50000/50000 [==============================] - 7s 135us/step - loss: 1.5696 - acc: 0.4331 - val_loss: 1.5049 - val_acc: 0.4697\n",
      "Epoch 23/50\n",
      "50000/50000 [==============================] - 7s 135us/step - loss: 1.5702 - acc: 0.4345 - val_loss: 1.5005 - val_acc: 0.4758\n",
      "Epoch 24/50\n",
      "50000/50000 [==============================] - 7s 134us/step - loss: 1.5546 - acc: 0.4394 - val_loss: 1.4840 - val_acc: 0.4793\n",
      "Epoch 25/50\n",
      "50000/50000 [==============================] - 7s 133us/step - loss: 1.5678 - acc: 0.4383 - val_loss: 1.5007 - val_acc: 0.4657\n",
      "Epoch 26/50\n",
      "50000/50000 [==============================] - 7s 133us/step - loss: 1.5519 - acc: 0.4428 - val_loss: 1.5036 - val_acc: 0.4768\n",
      "Epoch 27/50\n",
      "50000/50000 [==============================] - 7s 133us/step - loss: 1.5506 - acc: 0.4451 - val_loss: 1.4725 - val_acc: 0.4808\n",
      "Epoch 28/50\n",
      "50000/50000 [==============================] - 7s 133us/step - loss: 1.5440 - acc: 0.4443 - val_loss: 1.4736 - val_acc: 0.4752\n",
      "Epoch 29/50\n",
      "50000/50000 [==============================] - 7s 133us/step - loss: 1.5430 - acc: 0.4432 - val_loss: 1.4953 - val_acc: 0.4673\n",
      "Epoch 30/50\n",
      "50000/50000 [==============================] - 7s 133us/step - loss: 1.5449 - acc: 0.4436 - val_loss: 1.4795 - val_acc: 0.4796\n",
      "Epoch 31/50\n",
      "50000/50000 [==============================] - 7s 134us/step - loss: 1.5359 - acc: 0.4483 - val_loss: 1.4939 - val_acc: 0.4683\n",
      "Epoch 32/50\n",
      "50000/50000 [==============================] - 7s 134us/step - loss: 1.5289 - acc: 0.4503 - val_loss: 1.5184 - val_acc: 0.4627\n",
      "Epoch 33/50\n",
      "50000/50000 [==============================] - 7s 134us/step - loss: 1.5223 - acc: 0.4531 - val_loss: 1.4870 - val_acc: 0.4718\n",
      "Epoch 34/50\n",
      "50000/50000 [==============================] - 7s 133us/step - loss: 1.5355 - acc: 0.4487 - val_loss: 1.4848 - val_acc: 0.4735\n",
      "Epoch 35/50\n",
      "50000/50000 [==============================] - 7s 136us/step - loss: 1.5211 - acc: 0.4522 - val_loss: 1.4709 - val_acc: 0.4835\n",
      "Epoch 36/50\n",
      "50000/50000 [==============================] - 7s 134us/step - loss: 1.5218 - acc: 0.4508 - val_loss: 1.4940 - val_acc: 0.4706\n",
      "Epoch 37/50\n",
      "50000/50000 [==============================] - 7s 133us/step - loss: 1.5149 - acc: 0.4565 - val_loss: 1.4954 - val_acc: 0.4809\n",
      "Epoch 38/50\n",
      "50000/50000 [==============================] - 7s 134us/step - loss: 1.5150 - acc: 0.4562 - val_loss: 1.4659 - val_acc: 0.4859\n",
      "Epoch 39/50\n",
      "50000/50000 [==============================] - 7s 135us/step - loss: 1.5047 - acc: 0.4571 - val_loss: 1.4993 - val_acc: 0.4772\n",
      "Epoch 40/50\n",
      "50000/50000 [==============================] - 7s 134us/step - loss: 1.5001 - acc: 0.4596 - val_loss: 1.4697 - val_acc: 0.4816\n",
      "Epoch 41/50\n",
      "50000/50000 [==============================] - 7s 134us/step - loss: 1.4985 - acc: 0.4601 - val_loss: 1.4606 - val_acc: 0.4769\n",
      "Epoch 42/50\n",
      "50000/50000 [==============================] - 7s 134us/step - loss: 1.4951 - acc: 0.4625 - val_loss: 1.4691 - val_acc: 0.4804\n",
      "Epoch 43/50\n",
      "50000/50000 [==============================] - 7s 133us/step - loss: 1.4975 - acc: 0.4625 - val_loss: 1.4503 - val_acc: 0.4927\n",
      "Epoch 44/50\n",
      "50000/50000 [==============================] - 7s 133us/step - loss: 1.4929 - acc: 0.4631 - val_loss: 1.4590 - val_acc: 0.4835\n",
      "Epoch 45/50\n",
      "50000/50000 [==============================] - 7s 135us/step - loss: 1.4963 - acc: 0.4618 - val_loss: 1.4745 - val_acc: 0.4768\n",
      "Epoch 46/50\n",
      "50000/50000 [==============================] - 7s 134us/step - loss: 1.4869 - acc: 0.4631 - val_loss: 1.4604 - val_acc: 0.4872\n",
      "Epoch 47/50\n",
      "50000/50000 [==============================] - 7s 133us/step - loss: 1.4854 - acc: 0.4653 - val_loss: 1.4513 - val_acc: 0.4876\n",
      "Epoch 48/50\n",
      "50000/50000 [==============================] - 7s 133us/step - loss: 1.4868 - acc: 0.4646 - val_loss: 1.4504 - val_acc: 0.4792\n",
      "Epoch 49/50\n"
     ]
    },
    {
     "name": "stdout",
     "output_type": "stream",
     "text": [
      "50000/50000 [==============================] - 7s 132us/step - loss: 1.4783 - acc: 0.4682 - val_loss: 1.4627 - val_acc: 0.4857\n",
      "Epoch 50/50\n",
      "50000/50000 [==============================] - 7s 132us/step - loss: 1.4800 - acc: 0.4693 - val_loss: 1.4456 - val_acc: 0.4850\n"
     ]
    }
   ],
   "source": [
    "results = {}\n",
    "\"\"\"Code Here\n",
    "撰寫你的訓練流程並將結果用 dictionary 紀錄\n",
    "\"\"\"\n",
    "model = build_mlp(input_shape=x_train.shape[1:], drp_ratio=Dropout_EXP)\n",
    "model.summary()\n",
    "optimizer = keras.optimizers.Adam(lr=LEARNING_RATE, beta_1=0.9, beta_2=0.999, epsilon=None, decay=0.0, amsgrad=False)\n",
    "\n",
    "model.compile(loss=\"categorical_crossentropy\", metrics=[\"accuracy\"], optimizer=optimizer)\n",
    "\n",
    "model.fit(x_train, y_train, \n",
    "          epochs=EPOCHS, \n",
    "          batch_size=BATCH_SIZE, \n",
    "          validation_data=(x_test, y_test), \n",
    "          shuffle=True)\n",
    "\n",
    "# Collect results\n",
    "train_loss = model.history.history[\"loss\"]\n",
    "valid_loss = model.history.history[\"val_loss\"]\n",
    "train_acc = model.history.history[\"acc\"]\n",
    "valid_acc = model.history.history[\"val_acc\"]"
   ]
  },
  {
   "cell_type": "code",
   "execution_count": 8,
   "metadata": {},
   "outputs": [
    {
     "data": {
      "image/png": "[encoded data removed]",
      "text/plain": [
       "<Figure size 432x288 with 1 Axes>"
      ]
     },
     "metadata": {
      "needs_background": "light"
     },
     "output_type": "display_data"
    },
    {
     "data": {
      "image/png": "[encoded data removed]",
      "text/plain": [
       "<Figure size 432x288 with 1 Axes>"
      ]
     },
     "metadata": {
      "needs_background": "light"
     },
     "output_type": "display_data"
    }
   ],
   "source": [
    "import matplotlib.pyplot as plt\n",
    "%matplotlib inline\n",
    "\"\"\"Code Here\n",
    "將結果繪出\n",
    "\"\"\"\n",
    "\n",
    "plt.plot(range(len(train_loss)), train_loss, label=\"train loss\")\n",
    "plt.plot(range(len(valid_loss)), valid_loss, label=\"valid loss\")\n",
    "plt.legend()\n",
    "plt.title(\"Loss\")\n",
    "plt.show()\n",
    "\n",
    "plt.plot(range(len(train_acc)), train_acc, label=\"train accuracy\")\n",
    "plt.plot(range(len(valid_acc)), valid_acc, label=\"valid accuracy\")\n",
    "plt.legend()\n",
    "plt.title(\"Accuracy\")\n",
    "plt.show()"
   ]
  },
  {
   "cell_type": "code",
   "execution_count": null,
   "metadata": {},
   "outputs": [],
   "source": []
  }
 ],
 "metadata": {
  "kernelspec": {
   "display_name": "Python 3",
   "language": "python",
   "name": "python3"
  },
  "language_info": {
   "codemirror_mode": {
    "name": "ipython",
    "version": 3
   },
   "file_extension": ".py",
   "mimetype": "text/x-python",
   "name": "python",
   "nbconvert_exporter": "python",
   "pygments_lexer": "ipython3",
   "version": "3.7.3"
  }
 },
 "nbformat": 4,
 "nbformat_minor": 2
}
