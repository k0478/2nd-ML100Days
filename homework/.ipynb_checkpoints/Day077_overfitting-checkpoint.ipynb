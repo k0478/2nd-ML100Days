{
 "cells": [
  {
   "cell_type": "markdown",
   "metadata": {},
   "source": [
    "## 範例重點\n",
    "* 學會從 Keras 內建函式取得資料\n",
    "* 能夠建立簡易的深度學習模型\n",
    "* 觀察並了解 Overfit 現象"
   ]
  },
  {
   "cell_type": "code",
   "execution_count": 1,
   "metadata": {},
   "outputs": [
    {
     "name": "stderr",
     "output_type": "stream",
     "text": [
      "Using TensorFlow backend.\n"
     ]
    }
   ],
   "source": [
    "import os\n",
    "import keras\n",
    "\n",
    "# 本範例不需使用 GPU, 將 GPU 設定為 \"無\"\n",
    "os.environ[\"CUDA_VISIBLE_DEVICES\"] = \"\""
   ]
  },
  {
   "cell_type": "code",
   "execution_count": 2,
   "metadata": {},
   "outputs": [],
   "source": [
    "# 從 Keras 的內建功能中，取得 train 與 test 資料集\n",
    "train, test = keras.datasets.cifar10.load_data()"
   ]
  },
  {
   "cell_type": "code",
   "execution_count": 3,
   "metadata": {},
   "outputs": [],
   "source": [
    "# 將 X 與 Y 獨立放進變數\n",
    "x_train, y_train = train\n",
    "x_test, y_test = test\n",
    "# 資料前處理 - 標準化\n",
    "x_train = x_train / 255.\n",
    "x_test = x_test / 255.\n",
    "\n",
    "# 將資料從圖形 (RGB) 轉為向量 (Single Vector)\n",
    "x_train = x_train.reshape((len(x_train), -1))\n",
    "x_test = x_test.reshape((len(x_test), -1))\n",
    "\n",
    "# 將目標轉為 one-hot encoding\n",
    "y_train = keras.utils.to_categorical(y_train, num_classes=10)\n",
    "y_test = keras.utils.to_categorical(y_test, num_classes=10)"
   ]
  },
  {
   "cell_type": "code",
   "execution_count": 4,
   "metadata": {},
   "outputs": [],
   "source": [
    "# 建立一個有三層隱藏層之神經網路\n",
    "def build_mlp():\n",
    "    input_layer = keras.layers.Input([x_train.shape[-1]])\n",
    "    x = keras.layers.Dense(units=512, activation=\"relu\")(input_layer)\n",
    "    x = keras.layers.Dense(units=256, activation=\"relu\")(x)\n",
    "    x = keras.layers.Dense(units=128, activation=\"relu\")(x)\n",
    "    out = keras.layers.Dense(units=10, activation=\"softmax\")(x)\n",
    "    \n",
    "    model = keras.models.Model(inputs=[input_layer], outputs=[out])\n",
    "    return model"
   ]
  },
  {
   "cell_type": "code",
   "execution_count": 5,
   "metadata": {},
   "outputs": [
    {
     "name": "stderr",
     "output_type": "stream",
     "text": [
      "WARNING: Logging before flag parsing goes to stderr.\n",
      "W0724 21:00:47.672646 16204 deprecation_wrapper.py:119] From C:\\ProgramData\\Anaconda3\\lib\\site-packages\\keras\\backend\\tensorflow_backend.py:74: The name tf.get_default_graph is deprecated. Please use tf.compat.v1.get_default_graph instead.\n",
      "\n",
      "W0724 21:00:47.705789 16204 deprecation_wrapper.py:119] From C:\\ProgramData\\Anaconda3\\lib\\site-packages\\keras\\backend\\tensorflow_backend.py:517: The name tf.placeholder is deprecated. Please use tf.compat.v1.placeholder instead.\n",
      "\n",
      "W0724 21:00:47.713618 16204 deprecation_wrapper.py:119] From C:\\ProgramData\\Anaconda3\\lib\\site-packages\\keras\\backend\\tensorflow_backend.py:4138: The name tf.random_uniform is deprecated. Please use tf.random.uniform instead.\n",
      "\n",
      "W0724 21:00:47.769715 16204 deprecation_wrapper.py:119] From C:\\ProgramData\\Anaconda3\\lib\\site-packages\\keras\\optimizers.py:790: The name tf.train.Optimizer is deprecated. Please use tf.compat.v1.train.Optimizer instead.\n",
      "\n",
      "W0724 21:00:47.776689 16204 deprecation_wrapper.py:119] From C:\\ProgramData\\Anaconda3\\lib\\site-packages\\keras\\backend\\tensorflow_backend.py:3295: The name tf.log is deprecated. Please use tf.math.log instead.\n",
      "\n"
     ]
    },
    {
     "name": "stdout",
     "output_type": "stream",
     "text": [
      "_________________________________________________________________\n",
      "Layer (type)                 Output Shape              Param #   \n",
      "=================================================================\n",
      "input_1 (InputLayer)         (None, 3072)              0         \n",
      "_________________________________________________________________\n",
      "dense_1 (Dense)              (None, 512)               1573376   \n",
      "_________________________________________________________________\n",
      "dense_2 (Dense)              (None, 256)               131328    \n",
      "_________________________________________________________________\n",
      "dense_3 (Dense)              (None, 128)               32896     \n",
      "_________________________________________________________________\n",
      "dense_4 (Dense)              (None, 10)                1290      \n",
      "=================================================================\n",
      "Total params: 1,738,890\n",
      "Trainable params: 1,738,890\n",
      "Non-trainable params: 0\n",
      "_________________________________________________________________\n"
     ]
    }
   ],
   "source": [
    "model = build_mlp()\n",
    "# 用 Keras 內建方法檢視模型各層參數量\n",
    "model.summary()\n",
    "\n",
    "optimizer = keras.optimizers.Adam(lr=0.001)\n",
    "model.compile(loss=\"categorical_crossentropy\", metrics=[\"accuracy\"], optimizer=optimizer)"
   ]
  },
  {
   "cell_type": "code",
   "execution_count": 6,
   "metadata": {},
   "outputs": [
    {
     "name": "stderr",
     "output_type": "stream",
     "text": [
      "W0724 21:00:52.924206 16204 deprecation.py:323] From C:\\ProgramData\\Anaconda3\\lib\\site-packages\\tensorflow\\python\\ops\\math_grad.py:1250: add_dispatch_support.<locals>.wrapper (from tensorflow.python.ops.array_ops) is deprecated and will be removed in a future version.\n",
      "Instructions for updating:\n",
      "Use tf.where in 2.0, which has the same broadcast rule as np.where\n",
      "W0724 21:00:52.975068 16204 deprecation_wrapper.py:119] From C:\\ProgramData\\Anaconda3\\lib\\site-packages\\keras\\backend\\tensorflow_backend.py:986: The name tf.assign_add is deprecated. Please use tf.compat.v1.assign_add instead.\n",
      "\n"
     ]
    },
    {
     "name": "stdout",
     "output_type": "stream",
     "text": [
      "Train on 50000 samples, validate on 10000 samples\n",
      "Epoch 1/100\n",
      "50000/50000 [==============================] - 7s 135us/step - loss: 1.9133 - acc: 0.3125 - val_loss: 1.7767 - val_acc: 0.3713\n",
      "Epoch 2/100\n",
      "50000/50000 [==============================] - 6s 123us/step - loss: 1.7102 - acc: 0.3919 - val_loss: 1.6777 - val_acc: 0.3998 loss: 1.7322 - - ETA: 1s -\n",
      "Epoch 3/100\n",
      "50000/50000 [==============================] - 6s 119us/step - loss: 1.6157 - acc: 0.4252 - val_loss: 1.5862 - val_acc: 0.4339\n",
      "Epoch 4/100\n",
      "50000/50000 [==============================] - 6s 120us/step - loss: 1.5466 - acc: 0.4513 - val_loss: 1.5349 - val_acc: 0.4574\n",
      "Epoch 5/100\n",
      "50000/50000 [==============================] - 6s 120us/step - loss: 1.5220 - acc: 0.4593 - val_loss: 1.5454 - val_acc: 0.4504\n",
      "Epoch 6/100\n",
      "50000/50000 [==============================] - 6s 120us/step - loss: 1.4690 - acc: 0.4764 - val_loss: 1.5231 - val_acc: 0.4613\n",
      "Epoch 7/100\n",
      "50000/50000 [==============================] - 6s 120us/step - loss: 1.4309 - acc: 0.4910 - val_loss: 1.4546 - val_acc: 0.4829\n",
      "Epoch 8/100\n",
      "50000/50000 [==============================] - 6s 121us/step - loss: 1.4021 - acc: 0.5012 - val_loss: 1.4568 - val_acc: 0.4860\n",
      "Epoch 9/100\n",
      "50000/50000 [==============================] - 6s 120us/step - loss: 1.3775 - acc: 0.5079 - val_loss: 1.4250 - val_acc: 0.4954\n",
      "Epoch 10/100\n",
      "50000/50000 [==============================] - 6s 120us/step - loss: 1.3458 - acc: 0.5204 - val_loss: 1.4227 - val_acc: 0.4902\n",
      "Epoch 11/100\n",
      "50000/50000 [==============================] - 6s 120us/step - loss: 1.3288 - acc: 0.5249 - val_loss: 1.4170 - val_acc: 0.5056\n",
      "Epoch 12/100\n",
      "50000/50000 [==============================] - 6s 119us/step - loss: 1.2981 - acc: 0.5370 - val_loss: 1.3927 - val_acc: 0.5082\n",
      "Epoch 13/100\n",
      "50000/50000 [==============================] - 6s 118us/step - loss: 1.2782 - acc: 0.5427 - val_loss: 1.4051 - val_acc: 0.5004\n",
      "Epoch 14/100\n",
      "50000/50000 [==============================] - 6s 119us/step - loss: 1.2582 - acc: 0.5508 - val_loss: 1.3712 - val_acc: 0.5143\n",
      "Epoch 15/100\n",
      "50000/50000 [==============================] - 6s 122us/step - loss: 1.2321 - acc: 0.5610 - val_loss: 1.3676 - val_acc: 0.5196\n",
      "Epoch 16/100\n",
      "50000/50000 [==============================] - 6s 125us/step - loss: 1.2088 - acc: 0.5688 - val_loss: 1.3628 - val_acc: 0.5148\n",
      "Epoch 17/100\n",
      "50000/50000 [==============================] - 6s 118us/step - loss: 1.1908 - acc: 0.5756 - val_loss: 1.3825 - val_acc: 0.5103\n",
      "Epoch 18/100\n",
      "50000/50000 [==============================] - 6s 117us/step - loss: 1.1736 - acc: 0.5803 - val_loss: 1.3716 - val_acc: 0.5174\n",
      "Epoch 19/100\n",
      "50000/50000 [==============================] - 6s 118us/step - loss: 1.1427 - acc: 0.5916 - val_loss: 1.3588 - val_acc: 0.5233\n",
      "Epoch 20/100\n",
      "50000/50000 [==============================] - 6s 121us/step - loss: 1.1299 - acc: 0.5962 - val_loss: 1.3363 - val_acc: 0.5339\n",
      "Epoch 21/100\n",
      "50000/50000 [==============================] - 6s 121us/step - loss: 1.1044 - acc: 0.6050 - val_loss: 1.3413 - val_acc: 0.5300\n",
      "Epoch 22/100\n",
      "50000/50000 [==============================] - 6s 118us/step - loss: 1.0790 - acc: 0.6146 - val_loss: 1.4756 - val_acc: 0.5070\n",
      "Epoch 23/100\n",
      "50000/50000 [==============================] - 6s 119us/step - loss: 1.0743 - acc: 0.6181 - val_loss: 1.3528 - val_acc: 0.5350\n",
      "Epoch 24/100\n",
      "50000/50000 [==============================] - 6s 117us/step - loss: 1.0524 - acc: 0.6237 - val_loss: 1.3409 - val_acc: 0.5292\n",
      "Epoch 25/100\n",
      "50000/50000 [==============================] - 6s 117us/step - loss: 1.0326 - acc: 0.6292 - val_loss: 1.3732 - val_acc: 0.5245\n",
      "Epoch 26/100\n",
      "50000/50000 [==============================] - 6s 117us/step - loss: 1.0169 - acc: 0.6365 - val_loss: 1.3843 - val_acc: 0.5220\n",
      "Epoch 27/100\n",
      "50000/50000 [==============================] - 6s 117us/step - loss: 0.9991 - acc: 0.6436 - val_loss: 1.3988 - val_acc: 0.5230\n",
      "Epoch 28/100\n",
      "50000/50000 [==============================] - 6s 118us/step - loss: 0.9789 - acc: 0.6476 - val_loss: 1.4217 - val_acc: 0.5226\n",
      "Epoch 29/100\n",
      "50000/50000 [==============================] - 6s 119us/step - loss: 0.9642 - acc: 0.6571 - val_loss: 1.3925 - val_acc: 0.5319\n",
      "Epoch 30/100\n",
      "50000/50000 [==============================] - 6s 120us/step - loss: 0.9397 - acc: 0.6653 - val_loss: 1.4220 - val_acc: 0.5301\n",
      "Epoch 31/100\n",
      "50000/50000 [==============================] - 6s 119us/step - loss: 0.9283 - acc: 0.6675 - val_loss: 1.4129 - val_acc: 0.5353\n",
      "Epoch 32/100\n",
      "50000/50000 [==============================] - 6s 120us/step - loss: 0.9137 - acc: 0.6710 - val_loss: 1.4323 - val_acc: 0.5327\n",
      "Epoch 33/100\n",
      "50000/50000 [==============================] - 6s 119us/step - loss: 0.8922 - acc: 0.6801 - val_loss: 1.4555 - val_acc: 0.5209\n",
      "Epoch 34/100\n",
      "50000/50000 [==============================] - 6s 123us/step - loss: 0.8761 - acc: 0.6870 - val_loss: 1.4507 - val_acc: 0.5292\n",
      "Epoch 35/100\n",
      "50000/50000 [==============================] - 6s 120us/step - loss: 0.8651 - acc: 0.6888 - val_loss: 1.4686 - val_acc: 0.5364\n",
      "Epoch 36/100\n",
      "50000/50000 [==============================] - 6s 122us/step - loss: 0.8452 - acc: 0.6986 - val_loss: 1.5107 - val_acc: 0.5193\n",
      "Epoch 37/100\n",
      "50000/50000 [==============================] - 6s 125us/step - loss: 0.8202 - acc: 0.7075 - val_loss: 1.4726 - val_acc: 0.5306\n",
      "Epoch 38/100\n",
      "50000/50000 [==============================] - 6s 126us/step - loss: 0.8143 - acc: 0.7077 - val_loss: 1.5769 - val_acc: 0.5076\n",
      "Epoch 39/100\n",
      "50000/50000 [==============================] - 6s 129us/step - loss: 0.8035 - acc: 0.7127 - val_loss: 1.5900 - val_acc: 0.5132\n",
      "Epoch 40/100\n",
      "50000/50000 [==============================] - 6s 121us/step - loss: 0.7932 - acc: 0.7144 - val_loss: 1.5345 - val_acc: 0.5245\n",
      "Epoch 41/100\n",
      "50000/50000 [==============================] - 6s 120us/step - loss: 0.7756 - acc: 0.7232 - val_loss: 1.5479 - val_acc: 0.5323\n",
      "Epoch 42/100\n",
      "50000/50000 [==============================] - 6s 120us/step - loss: 0.7537 - acc: 0.7307 - val_loss: 1.5707 - val_acc: 0.5250\n",
      "Epoch 43/100\n",
      "50000/50000 [==============================] - 6s 119us/step - loss: 0.7333 - acc: 0.7380 - val_loss: 1.5819 - val_acc: 0.5269\n",
      "Epoch 44/100\n",
      "50000/50000 [==============================] - 6s 119us/step - loss: 0.7193 - acc: 0.7434 - val_loss: 1.6606 - val_acc: 0.5154\n",
      "Epoch 45/100\n",
      "50000/50000 [==============================] - 6s 120us/step - loss: 0.7089 - acc: 0.7475 - val_loss: 1.6561 - val_acc: 0.5239\n",
      "Epoch 46/100\n",
      "50000/50000 [==============================] - 6s 125us/step - loss: 0.7045 - acc: 0.7454 - val_loss: 1.6759 - val_acc: 0.5217\n",
      "Epoch 47/100\n",
      "50000/50000 [==============================] - 6s 127us/step - loss: 0.6902 - acc: 0.7516 - val_loss: 1.6857 - val_acc: 0.5237\n",
      "Epoch 48/100\n",
      "50000/50000 [==============================] - 6s 121us/step - loss: 0.6741 - acc: 0.7573 - val_loss: 1.7082 - val_acc: 0.5202\n",
      "Epoch 49/100\n",
      "50000/50000 [==============================] - 6s 119us/step - loss: 0.6639 - acc: 0.7614 - val_loss: 1.7337 - val_acc: 0.5152\n",
      "Epoch 50/100\n",
      "50000/50000 [==============================] - 6s 122us/step - loss: 0.6498 - acc: 0.7663 - val_loss: 1.7787 - val_acc: 0.5198\n",
      "Epoch 51/100\n",
      "50000/50000 [==============================] - 6s 125us/step - loss: 0.6353 - acc: 0.7725 - val_loss: 1.7821 - val_acc: 0.5082\n",
      "Epoch 52/100\n",
      "50000/50000 [==============================] - 6s 121us/step - loss: 0.6368 - acc: 0.7727 - val_loss: 1.7477 - val_acc: 0.5230\n",
      "Epoch 53/100\n",
      "50000/50000 [==============================] - 6s 118us/step - loss: 0.6176 - acc: 0.7786 - val_loss: 1.8133 - val_acc: 0.5190\n",
      "Epoch 54/100\n",
      "50000/50000 [==============================] - 6s 119us/step - loss: 0.5987 - acc: 0.7852 - val_loss: 1.8026 - val_acc: 0.5170\n",
      "Epoch 55/100\n",
      "50000/50000 [==============================] - 6s 119us/step - loss: 0.5989 - acc: 0.7851 - val_loss: 1.8469 - val_acc: 0.5152\n",
      "Epoch 56/100\n",
      "50000/50000 [==============================] - 6s 119us/step - loss: 0.5751 - acc: 0.7932 - val_loss: 1.9004 - val_acc: 0.5106\n",
      "Epoch 57/100\n",
      "50000/50000 [==============================] - 6s 119us/step - loss: 0.5816 - acc: 0.7914 - val_loss: 1.8979 - val_acc: 0.5235\n",
      "Epoch 58/100\n",
      "50000/50000 [==============================] - 6s 118us/step - loss: 0.5488 - acc: 0.8028 - val_loss: 1.9079 - val_acc: 0.5178\n",
      "Epoch 59/100\n"
     ]
    },
    {
     "name": "stdout",
     "output_type": "stream",
     "text": [
      "50000/50000 [==============================] - 6s 119us/step - loss: 0.5481 - acc: 0.8034 - val_loss: 1.9780 - val_acc: 0.5163\n",
      "Epoch 60/100\n",
      "50000/50000 [==============================] - 6s 119us/step - loss: 0.5231 - acc: 0.8120 - val_loss: 1.9755 - val_acc: 0.5125\n",
      "Epoch 61/100\n",
      "50000/50000 [==============================] - 6s 119us/step - loss: 0.5309 - acc: 0.8100 - val_loss: 2.0394 - val_acc: 0.5104\n",
      "Epoch 62/100\n",
      "50000/50000 [==============================] - 6s 121us/step - loss: 0.5253 - acc: 0.8113 - val_loss: 2.0020 - val_acc: 0.5078\n",
      "Epoch 63/100\n",
      "50000/50000 [==============================] - 6s 123us/step - loss: 0.5077 - acc: 0.8191 - val_loss: 2.1170 - val_acc: 0.5112\n",
      "Epoch 64/100\n",
      "50000/50000 [==============================] - 6s 128us/step - loss: 0.5025 - acc: 0.8188 - val_loss: 2.0729 - val_acc: 0.5197\n",
      "Epoch 65/100\n",
      "50000/50000 [==============================] - 6s 121us/step - loss: 0.4939 - acc: 0.8223 - val_loss: 2.1022 - val_acc: 0.5156\n",
      "Epoch 66/100\n",
      "50000/50000 [==============================] - 6s 121us/step - loss: 0.4804 - acc: 0.8277 - val_loss: 2.1470 - val_acc: 0.5131\n",
      "Epoch 67/100\n",
      "50000/50000 [==============================] - 6s 121us/step - loss: 0.4982 - acc: 0.8212 - val_loss: 2.1443 - val_acc: 0.5219\n",
      "Epoch 68/100\n",
      "50000/50000 [==============================] - 6s 118us/step - loss: 0.4613 - acc: 0.8352 - val_loss: 2.1848 - val_acc: 0.5211\n",
      "Epoch 69/100\n",
      "50000/50000 [==============================] - 6s 120us/step - loss: 0.4671 - acc: 0.8317 - val_loss: 2.1825 - val_acc: 0.5143\n",
      "Epoch 70/100\n",
      "50000/50000 [==============================] - 6s 119us/step - loss: 0.4657 - acc: 0.8320 - val_loss: 2.2619 - val_acc: 0.5139\n",
      "Epoch 71/100\n",
      "50000/50000 [==============================] - 6s 118us/step - loss: 0.4558 - acc: 0.8352 - val_loss: 2.2510 - val_acc: 0.5114\n",
      "Epoch 72/100\n",
      "50000/50000 [==============================] - 6s 120us/step - loss: 0.4437 - acc: 0.8403 - val_loss: 2.2389 - val_acc: 0.5081\n",
      "Epoch 73/100\n",
      "50000/50000 [==============================] - 6s 119us/step - loss: 0.4284 - acc: 0.8468 - val_loss: 2.3223 - val_acc: 0.5066\n",
      "Epoch 74/100\n",
      "50000/50000 [==============================] - 6s 119us/step - loss: 0.4191 - acc: 0.8468 - val_loss: 2.3120 - val_acc: 0.5120\n",
      "Epoch 75/100\n",
      "50000/50000 [==============================] - 6s 119us/step - loss: 0.4166 - acc: 0.8513 - val_loss: 2.3917 - val_acc: 0.5112\n",
      "Epoch 76/100\n",
      "50000/50000 [==============================] - 6s 119us/step - loss: 0.4151 - acc: 0.8508 - val_loss: 2.3707 - val_acc: 0.5041\n",
      "Epoch 77/100\n",
      "50000/50000 [==============================] - 6s 121us/step - loss: 0.4054 - acc: 0.8548 - val_loss: 2.4847 - val_acc: 0.4975\n",
      "Epoch 78/100\n",
      "50000/50000 [==============================] - 6s 121us/step - loss: 0.3993 - acc: 0.8567 - val_loss: 2.4408 - val_acc: 0.5093\n",
      "Epoch 79/100\n",
      "50000/50000 [==============================] - 6s 123us/step - loss: 0.3745 - acc: 0.8661 - val_loss: 2.5058 - val_acc: 0.5089\n",
      "Epoch 80/100\n",
      "50000/50000 [==============================] - 6s 120us/step - loss: 0.3863 - acc: 0.8612 - val_loss: 2.5339 - val_acc: 0.5118\n",
      "Epoch 81/100\n",
      "50000/50000 [==============================] - 6s 123us/step - loss: 0.3805 - acc: 0.8629 - val_loss: 2.5261 - val_acc: 0.5089\n",
      "Epoch 82/100\n",
      "50000/50000 [==============================] - 6s 119us/step - loss: 0.3852 - acc: 0.8610 - val_loss: 2.5510 - val_acc: 0.5002\n",
      "Epoch 83/100\n",
      "50000/50000 [==============================] - 6s 118us/step - loss: 0.3736 - acc: 0.8658 - val_loss: 2.5785 - val_acc: 0.5102\n",
      "Epoch 84/100\n",
      "50000/50000 [==============================] - 6s 122us/step - loss: 0.3696 - acc: 0.8682 - val_loss: 2.6572 - val_acc: 0.4996\n",
      "Epoch 85/100\n",
      "50000/50000 [==============================] - 7s 137us/step - loss: 0.3675 - acc: 0.8671 - val_loss: 2.6548 - val_acc: 0.5067\n",
      "Epoch 86/100\n",
      "50000/50000 [==============================] - 7s 137us/step - loss: 0.3519 - acc: 0.8730 - val_loss: 2.6947 - val_acc: 0.5149\n",
      "Epoch 87/100\n",
      "50000/50000 [==============================] - 6s 128us/step - loss: 0.3629 - acc: 0.8681 - val_loss: 2.6690 - val_acc: 0.5091\n",
      "Epoch 88/100\n",
      "50000/50000 [==============================] - 6s 127us/step - loss: 0.3209 - acc: 0.8866 - val_loss: 2.6885 - val_acc: 0.5037\n",
      "Epoch 89/100\n",
      "50000/50000 [==============================] - 6s 129us/step - loss: 0.3341 - acc: 0.8806 - val_loss: 2.6627 - val_acc: 0.5084\n",
      "Epoch 90/100\n",
      "50000/50000 [==============================] - 6s 125us/step - loss: 0.3316 - acc: 0.8808 - val_loss: 2.7960 - val_acc: 0.5052\n",
      "Epoch 91/100\n",
      "50000/50000 [==============================] - 6s 125us/step - loss: 0.3316 - acc: 0.8785 - val_loss: 2.7696 - val_acc: 0.5113\n",
      "Epoch 92/100\n",
      "50000/50000 [==============================] - 6s 121us/step - loss: 0.3280 - acc: 0.8825 - val_loss: 2.8548 - val_acc: 0.5045\n",
      "Epoch 93/100\n",
      "50000/50000 [==============================] - 6s 122us/step - loss: 0.3288 - acc: 0.8829 - val_loss: 2.8245 - val_acc: 0.5124\n",
      "Epoch 94/100\n",
      "50000/50000 [==============================] - 6s 121us/step - loss: 0.3105 - acc: 0.8894 - val_loss: 2.8376 - val_acc: 0.5036\n",
      "Epoch 95/100\n",
      "50000/50000 [==============================] - 6s 124us/step - loss: 0.2881 - acc: 0.8971 - val_loss: 2.8739 - val_acc: 0.5074\n",
      "Epoch 96/100\n",
      "50000/50000 [==============================] - 6s 121us/step - loss: 0.3074 - acc: 0.8887 - val_loss: 2.9650 - val_acc: 0.4991\n",
      "Epoch 97/100\n",
      "50000/50000 [==============================] - 6s 122us/step - loss: 0.3028 - acc: 0.8908 - val_loss: 3.1003 - val_acc: 0.4942\n",
      "Epoch 98/100\n",
      "50000/50000 [==============================] - 6s 122us/step - loss: 0.3005 - acc: 0.8919 - val_loss: 2.9181 - val_acc: 0.5036\n",
      "Epoch 99/100\n",
      "50000/50000 [==============================] - 6s 120us/step - loss: 0.3012 - acc: 0.8920 - val_loss: 3.0422 - val_acc: 0.5024\n",
      "Epoch 100/100\n",
      "50000/50000 [==============================] - 6s 122us/step - loss: 0.3047 - acc: 0.8911 - val_loss: 3.0280 - val_acc: 0.5087\n"
     ]
    },
    {
     "data": {
      "text/plain": [
       "<keras.callbacks.History at 0x1aed5dd5e48>"
      ]
     },
     "execution_count": 6,
     "metadata": {},
     "output_type": "execute_result"
    }
   ],
   "source": [
    "# 訓練模型並檢視驗證集的結果\n",
    "model.fit(x_train, y_train, \n",
    "          epochs=100, \n",
    "          batch_size=256, \n",
    "          validation_data=(x_test, y_test), \n",
    "          shuffle=True)"
   ]
  },
  {
   "cell_type": "code",
   "execution_count": 7,
   "metadata": {},
   "outputs": [
    {
     "data": {
      "text/plain": [
       "<Figure size 640x480 with 1 Axes>"
      ]
     },
     "metadata": {},
     "output_type": "display_data"
    },
    {
     "data": {
      "text/plain": [
       "<Figure size 640x480 with 1 Axes>"
      ]
     },
     "metadata": {},
     "output_type": "display_data"
    }
   ],
   "source": [
    "# 以視覺畫方式檢視訓練過程\n",
    "import matplotlib.pyplot as plt\n",
    "train_loss = model.history.history[\"loss\"]\n",
    "valid_loss = model.history.history[\"val_loss\"]\n",
    "\n",
    "train_acc = model.history.history[\"acc\"]\n",
    "valid_acc = model.history.history[\"val_acc\"]\n",
    "\n",
    "plt.plot(range(len(train_loss)), train_loss, label=\"train loss\")\n",
    "plt.plot(range(len(valid_loss)), valid_loss, label=\"valid loss\")\n",
    "plt.legend()\n",
    "plt.title(\"Loss\")\n",
    "plt.show()\n",
    "\n",
    "plt.plot(range(len(train_acc)), train_acc, label=\"train accuracy\")\n",
    "plt.plot(range(len(valid_acc)), valid_acc, label=\"valid accuracy\")\n",
    "plt.legend()\n",
    "plt.title(\"Accuracy\")\n",
    "plt.show()"
   ]
  },
  {
   "cell_type": "markdown",
   "metadata": {},
   "source": [
    "## 作業\n",
    "1. 請將 Epoch 加到 500 個，並觀察 learning curve 的走勢\n",
    "2. 請將 Optimizer 換成 SGD，並觀察 learning curve 的走勢"
   ]
  }
 ],
 "metadata": {
  "kernelspec": {
   "display_name": "Python 3",
   "language": "python",
   "name": "python3"
  },
  "language_info": {
   "codemirror_mode": {
    "name": "ipython",
    "version": 3
   },
   "file_extension": ".py",
   "mimetype": "text/x-python",
   "name": "python",
   "nbconvert_exporter": "python",
   "pygments_lexer": "ipython3",
   "version": "3.7.3"
  }
 },
 "nbformat": 4,
 "nbformat_minor": 2
}
