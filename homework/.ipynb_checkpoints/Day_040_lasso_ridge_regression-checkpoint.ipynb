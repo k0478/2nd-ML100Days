{
 "cells": [
  {
   "cell_type": "code",
   "execution_count": 1,
   "metadata": {
    "collapsed": true
   },
   "outputs": [],
   "source": [
    "import numpy as np\n",
    "import matplotlib.pyplot as plt\n",
    "from sklearn import datasets, linear_model\n",
    "from sklearn.model_selection import train_test_split\n",
    "from sklearn.metrics import mean_squared_error, r2_score"
   ]
  },
  {
   "cell_type": "code",
   "execution_count": 2,
   "metadata": {},
   "outputs": [
    {
     "data": {
      "text/plain": [
       "array([  74.43391835,   93.01109527,  174.89737143,   52.70087943,\n",
       "        180.63167083,  145.29216855,  112.87572919,  121.31665469,\n",
       "         86.80032197,   72.09378757,  106.45223905,  193.85629433,\n",
       "        182.28244231,  125.44954596,  155.88807338,  139.16274427,\n",
       "        176.97750299,  119.391544  ,  110.71450134,  183.79586685,\n",
       "        215.37201852,  181.15778329,   58.74605273,  228.82344172,\n",
       "         54.2078642 ,  107.86621435,  157.1596501 ,  180.13320036,\n",
       "         62.20538852,   67.18498305,  190.81938489,  118.09494234,\n",
       "        260.89115016,  183.19864659,  105.60921861,  175.91776536,\n",
       "        176.89214476,  156.04517274,  146.9267604 ,  157.34264891,\n",
       "        198.17580795,  168.02789586,  237.98697647,   71.33866228,\n",
       "        237.45207957,  108.07352281,  152.11732859,   50.30628893,\n",
       "        199.55743787,  139.52692004,  110.45619532,  101.52014142,\n",
       "        154.91606348,  228.90426313,   54.52750793,  187.29002271,\n",
       "        106.15579971,   93.61499106,  190.00654826,  226.40047522,\n",
       "        124.53876748,   97.0908313 ,  168.71526129,  249.76923806,\n",
       "        120.97965421,  166.18303864,  125.74890414,  201.92319626,\n",
       "        228.46151939,  198.24974673,  146.03410277,  163.99013963,\n",
       "        162.38407362,  212.78534323,  162.6299936 ,  210.2429608 ,\n",
       "         91.61967593,  174.87371699,  141.22837306,  159.42309295,\n",
       "        156.53865915,  199.40366836,  147.73539256,  140.5505701 ,\n",
       "         55.16763669,  177.30731091,  225.99809618,  121.31254027,\n",
       "        140.94135558])"
      ]
     },
     "execution_count": 2,
     "metadata": {},
     "output_type": "execute_result"
    }
   ],
   "source": [
    "# 讀取糖尿病資料集\n",
    "diabetes = datasets.load_diabetes()\n",
    "\n",
    "# 切分訓練集/測試集\n",
    "x_train, x_test, y_train, y_test = train_test_split(diabetes.data, diabetes.target, test_size=0.2, random_state=4)\n",
    "\n",
    "# 建立一個線性回歸模型\n",
    "regr = linear_model.LinearRegression()\n",
    "\n",
    "# 將訓練資料丟進去模型訓練\n",
    "regr.fit(x_train, y_train)\n",
    "\n",
    "# 將測試資料丟進模型得到預測結果\n",
    "y_pred = regr.predict(x_test)\n",
    "y_pred"
   ]
  },
  {
   "cell_type": "code",
   "execution_count": 3,
   "metadata": {},
   "outputs": [
    {
     "name": "stdout",
     "output_type": "stream",
     "text": [
      "[  33.40877011 -292.24672884  481.07153405  369.06269614 -966.37849405\n",
      "  589.81383056  232.61924401  288.3263166   802.72704593   37.81285219]\n"
     ]
    }
   ],
   "source": [
    "print(regr.coef_)"
   ]
  },
  {
   "cell_type": "code",
   "execution_count": 4,
   "metadata": {},
   "outputs": [
    {
     "name": "stdout",
     "output_type": "stream",
     "text": [
      "Mean squared error: 2939.42\n"
     ]
    }
   ],
   "source": [
    "# 預測值與實際值的差距，使用 MSE\n",
    "print(\"Mean squared error: %.2f\"\n",
    "      % mean_squared_error(y_test, y_pred))"
   ]
  },
  {
   "cell_type": "markdown",
   "metadata": {},
   "source": [
    "### LASSO"
   ]
  },
  {
   "cell_type": "code",
   "execution_count": 5,
   "metadata": {},
   "outputs": [
    {
     "data": {
      "text/plain": [
       "array([ 111.52509176,  123.2338616 ,  156.45369148,  102.13599985,\n",
       "        159.75974036,  158.03568247,  135.3688624 ,  139.05189776,\n",
       "        119.41738834,  122.02857106,  126.38175704,  179.73336545,\n",
       "        166.37414324,  148.50973919,  165.09115348,  154.19262849,\n",
       "        167.85950309,  128.95237367,  132.00048484,  166.17695843,\n",
       "        199.38853582,  160.99236956,  122.02323849,  185.85625663,\n",
       "        104.1895276 ,  118.7948741 ,  162.58814935,  150.93935963,\n",
       "        108.06654478,  114.59884936,  193.16769667,  125.58652217,\n",
       "        209.85220167,  175.70722477,  133.41808772,  162.1244755 ,\n",
       "        153.35086143,  161.86614855,  143.95574931,  154.5632633 ,\n",
       "        172.85595027,  172.89272415,  191.59083777,  104.80458571,\n",
       "        192.71857898,  126.72620156,  144.78989163,  104.74392762,\n",
       "        164.00718409,  146.83632154,  134.66303916,  130.98813213,\n",
       "        153.39628046,  188.51468663,  110.31743844,  174.93638587,\n",
       "        121.94797595,  119.6999443 ,  169.07635066,  189.82396327,\n",
       "        147.29727162,  125.8211522 ,  168.26306532,  201.08453179,\n",
       "        129.24609154,  163.10204543,  139.64709421,  164.24947528,\n",
       "        181.10551826,  162.86358963,  160.77469169,  153.14476681,\n",
       "        164.20688092,  193.22659922,  148.84977043,  170.08459964,\n",
       "        128.15757539,  179.86866733,  151.58096312,  152.98571639,\n",
       "        140.48683643,  170.34024982,  149.66834231,  177.64673807,\n",
       "        119.54474066,  157.21918742,  183.09466545,  134.32232131,\n",
       "        138.06560459])"
      ]
     },
     "execution_count": 5,
     "metadata": {},
     "output_type": "execute_result"
    }
   ],
   "source": [
    "# 讀取糖尿病資料集\n",
    "diabetes = datasets.load_diabetes()\n",
    "\n",
    "# 切分訓練集/測試集\n",
    "x_train, x_test, y_train, y_test = train_test_split(diabetes.data, diabetes.target, test_size=0.2, random_state=4)\n",
    "\n",
    "# 建立一個線性回歸模型\n",
    "lasso = linear_model.Lasso(alpha=1.0)\n",
    "\n",
    "# 將訓練資料丟進去模型訓練\n",
    "lasso.fit(x_train, y_train)\n",
    "\n",
    "# 將測試資料丟進模型得到預測結果\n",
    "y_pred = lasso.predict(x_test)\n",
    "y_pred"
   ]
  },
  {
   "cell_type": "code",
   "execution_count": 23,
   "metadata": {},
   "outputs": [
    {
     "data": {
      "text/plain": [
       "array([  0.        ,  -0.        , 321.203877  ,  57.74744332,\n",
       "         0.        ,   0.        ,  -0.        ,   0.        ,\n",
       "       332.41817196,   0.        ])"
      ]
     },
     "execution_count": 23,
     "metadata": {},
     "output_type": "execute_result"
    }
   ],
   "source": [
    "# 印出各特徵對應的係數，可以看到許多係數都變成 0，Lasso Regression 的確可以做特徵選取\n",
    "lasso.coef_"
   ]
  },
  {
   "cell_type": "code",
   "execution_count": 24,
   "metadata": {},
   "outputs": [
    {
     "name": "stdout",
     "output_type": "stream",
     "text": [
      "Mean squared error: 3505.84\n"
     ]
    }
   ],
   "source": [
    "# 預測值與實際值的差距，使用 MSE\n",
    "print(\"Mean squared error: %.2f\"\n",
    "      % mean_squared_error(y_test, y_pred))"
   ]
  },
  {
   "cell_type": "markdown",
   "metadata": {},
   "source": [
    "### Ridge"
   ]
  },
  {
   "cell_type": "code",
   "execution_count": 25,
   "metadata": {
    "collapsed": true
   },
   "outputs": [],
   "source": [
    "# 讀取糖尿病資料集\n",
    "diabetes = datasets.load_diabetes()\n",
    "\n",
    "# 切分訓練集/測試集\n",
    "x_train, x_test, y_train, y_test = train_test_split(diabetes.data, diabetes.target, test_size=0.2, random_state=4)\n",
    "\n",
    "# 建立一個線性回歸模型\n",
    "ridge = linear_model.Ridge(alpha=1.0)\n",
    "\n",
    "# 將訓練資料丟進去模型訓練\n",
    "ridge.fit(x_train, y_train)\n",
    "\n",
    "# 將測試資料丟進模型得到預測結果\n",
    "y_pred = regr.predict(x_test)"
   ]
  },
  {
   "cell_type": "code",
   "execution_count": 28,
   "metadata": {},
   "outputs": [
    {
     "name": "stdout",
     "output_type": "stream",
     "text": [
      "[  48.8125786   -85.49511577  270.22532535  201.91767903   17.41308665\n",
      "  -19.04346706 -136.47737574  122.26503311  247.60074795   95.59855598]\n"
     ]
    }
   ],
   "source": [
    "# 印出 Ridge 的參數，可以很明顯看到比起 Linear Regression，參數的數值都明顯小了許多\n",
    "print(ridge.coef_)"
   ]
  },
  {
   "cell_type": "code",
   "execution_count": 26,
   "metadata": {},
   "outputs": [
    {
     "name": "stdout",
     "output_type": "stream",
     "text": [
      "Mean squared error: 2939.42\n"
     ]
    }
   ],
   "source": [
    "# 預測值與實際值的差距，使用 MSE\n",
    "print(\"Mean squared error: %.2f\"\n",
    "      % mean_squared_error(y_test, y_pred))"
   ]
  },
  {
   "cell_type": "markdown",
   "metadata": {},
   "source": [
    "可以看見 LASSO 與 Ridge 的結果並沒有比原本的線性回歸來得好，\n",
    "這是因為目標函數被加上了正規化函數，讓模型不能過於複雜，相當於限制模型擬和資料的能力。因此若沒有發現 Over-fitting 的情況，是可以不需要一開始就加上太強的正規化的。"
   ]
  },
  {
   "cell_type": "markdown",
   "metadata": {},
   "source": [
    "## 練習時間"
   ]
  },
  {
   "cell_type": "markdown",
   "metadata": {},
   "source": [
    "請使用其他資料集 (boston, wine)，並調整不同的 alpha 來觀察模型訓練的情形。"
   ]
  },
  {
   "cell_type": "code",
   "execution_count": null,
   "metadata": {
    "collapsed": true
   },
   "outputs": [],
   "source": []
  }
 ],
 "metadata": {
  "kernelspec": {
   "display_name": "Python 3",
   "language": "python",
   "name": "python3"
  },
  "language_info": {
   "codemirror_mode": {
    "name": "ipython",
    "version": 3
   },
   "file_extension": ".py",
   "mimetype": "text/x-python",
   "name": "python",
   "nbconvert_exporter": "python",
   "pygments_lexer": "ipython3",
   "version": "3.6.3"
  }
 },
 "nbformat": 4,
 "nbformat_minor": 2
}
